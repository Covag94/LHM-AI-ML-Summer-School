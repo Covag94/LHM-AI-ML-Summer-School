{
  "nbformat": 4,
  "nbformat_minor": 0,
  "metadata": {
    "colab": {
      "provenance": [],
      "gpuType": "T4"
    },
    "kernelspec": {
      "name": "python3",
      "display_name": "Python 3"
    },
    "language_info": {
      "name": "python"
    },
    "accelerator": "GPU"
  },
  "cells": [
    {
      "cell_type": "markdown",
      "source": [
        "## Task\n",
        "\n",
        "In this task, we will try to do sentiment analysis using both images and text. Sounds fun, right!\n",
        "\n",
        "We have the dataset [MVSA: Sentiment Analysis on Multi-view Social Data](https://mcrlab.net/research/mvsa-sentiment-analysis-on-multi-view-social-data/) which is a collection of tweets which include both text and images."
      ],
      "metadata": {
        "id": "mDwrM_Td-iwB"
      }
    },
    {
      "cell_type": "markdown",
      "source": [
        "Your job is the following:\n",
        "1. Read and process the dataset (images, text, and their labels) and divide into train and test dataset (80:20 split).\n",
        "2. Build, train and evaluate a CNN which only uses images for sentiment analysis\n",
        "3. Build, train and evaluate a Text model which only uses the text data for sentiment analalysis (You can use any of RNN/LSTM/GRU)\n",
        "4. Build, train and evaluate a combined model which uses both visual aand text data.\n",
        "5. Do a performance comparsion of these three different kinds of models. Also plot confusion matrices for all of them."
      ],
      "metadata": {
        "id": "6A1klSsl_KYp"
      }
    },
    {
      "cell_type": "markdown",
      "source": [
        "Here's how the combined model would look like.\n",
        "\n",
        "![model_fig.jpg](data:image/jpeg;base64,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)"
      ],
      "metadata": {
        "id": "jV70U_aAEyUm"
      }
    },
    {
      "cell_type": "code",
      "execution_count": null,
      "metadata": {
        "id": "T9sfwiYP0w7H",
        "colab": {
          "base_uri": "https://localhost:8080/"
        },
        "outputId": "2d4f71b4-8d8c-4fbe-e593-9547793e6320",
        "collapsed": true
      },
      "outputs": [
        {
          "output_type": "stream",
          "name": "stdout",
          "text": [
            "Downloading...\n",
            "From (original): https://drive.google.com/uc?id=1w2zPSfyAoSopS-BhFurKayYa_OhjI9YH\n",
            "From (redirected): https://drive.google.com/uc?id=1w2zPSfyAoSopS-BhFurKayYa_OhjI9YH&confirm=t&uuid=953a85b0-7dd7-4b27-9e67-a55086f81c8c\n",
            "To: /content/MVSA-Single.zip\n",
            "100% 211M/211M [00:01<00:00, 118MB/s]\n"
          ]
        }
      ],
      "source": [
        "!gdown \"1w2zPSfyAoSopS-BhFurKayYa_OhjI9YH\""
      ]
    },
    {
      "cell_type": "code",
      "source": [
        "!unzip MVSA-Single.zip"
      ],
      "metadata": {
        "id": "yJMj03jN1KXq",
        "colab": {
          "base_uri": "https://localhost:8080/"
        },
        "outputId": "01eb208a-665d-4cc7-e4ad-8db51e7b53ac",
        "collapsed": true
      },
      "execution_count": null,
      "outputs": [
        {
          "output_type": "stream",
          "name": "stdout",
          "text": [
            "Archive:  MVSA-Single.zip\n",
            "replace MVSA_Single/data/1.jpg? [y]es, [n]o, [A]ll, [N]one, [r]ename: N\n"
          ]
        }
      ]
    },
    {
      "cell_type": "code",
      "source": [
        "from IPython.display import clear_output"
      ],
      "metadata": {
        "id": "miXNkH-ICitZ"
      },
      "execution_count": null,
      "outputs": []
    },
    {
      "cell_type": "code",
      "source": [
        "import os\n",
        "\n",
        "import torch\n",
        "import torch.nn as nn\n",
        "\n",
        "#import torchvision.transforms.functional as F\n",
        "import torch.nn.functional as F\n",
        "from torchvision import transforms\n",
        "from torch.utils.data import Dataset, DataLoader, random_split\n",
        "from torchvision.transforms.functional import to_tensor\n",
        "from torch.optim import Adam\n",
        "\n",
        "import numpy as np\n",
        "import matplotlib.pyplot as plt\n",
        "\n",
        "import pandas as pd\n",
        "\n",
        "from PIL import Image, ImageOps\n",
        "\n",
        "from sklearn.utils.class_weight import compute_class_weight\n",
        "from sklearn.preprocessing import LabelEncoder\n",
        "from sklearn.metrics import confusion_matrix"
      ],
      "metadata": {
        "id": "CyMxe-OXcF-b"
      },
      "execution_count": null,
      "outputs": []
    },
    {
      "cell_type": "code",
      "source": [
        "labels_df = pd.read_csv('MVSA_Single/labelResultAll.csv')\n",
        "print(labels_df)"
      ],
      "metadata": {
        "colab": {
          "base_uri": "https://localhost:8080/"
        },
        "id": "XtrSKPXpeBl9",
        "outputId": "2406868c-6ce9-49f5-d948-e3dd71299e30",
        "collapsed": true
      },
      "execution_count": null,
      "outputs": [
        {
          "output_type": "stream",
          "name": "stdout",
          "text": [
            "        ID     label\n",
            "0        1  positive\n",
            "1        2  positive\n",
            "2        3  positive\n",
            "3        4  positive\n",
            "4        5  positive\n",
            "...    ...       ...\n",
            "4864  5125  positive\n",
            "4865  5126   neutral\n",
            "4866  5127  positive\n",
            "4867  5128  positive\n",
            "4868  5129  positive\n",
            "\n",
            "[4869 rows x 2 columns]\n"
          ]
        }
      ]
    },
    {
      "cell_type": "markdown",
      "source": [
        "**Check if all labels have both image and text attached to them**"
      ],
      "metadata": {
        "id": "mbi0a-yZiwoj"
      }
    },
    {
      "cell_type": "code",
      "source": [
        "data_directory = 'MVSA_Single/data/'\n",
        "\n",
        "def check_files_exist(id):\n",
        "    img_path = os.path.join(data_directory, f\"{id}.jpg\")\n",
        "    txt_path = os.path.join(data_directory, f\"{id}.txt\")\n",
        "    return os.path.exists(img_path) and os.path.exists(txt_path)\n",
        "\n",
        "# Apply the check to each ID in the labels file\n",
        "labels_df['files_exist'] = labels_df['ID'].apply(check_files_exist)\n",
        "\n",
        "# Check if any label does not have both files\n",
        "missing_files = labels_df[~labels_df['files_exist']]\n",
        "\n",
        "if missing_files.empty:\n",
        "    print(\"All labels have both an image and a text file.\")\n",
        "else:\n",
        "    print(f\"Some labels are missing files: {missing_files['ID'].tolist()}\")"
      ],
      "metadata": {
        "colab": {
          "base_uri": "https://localhost:8080/"
        },
        "id": "j1zuhbijiII5",
        "outputId": "43e18419-520a-4828-e6d0-be5d39455938"
      },
      "execution_count": null,
      "outputs": [
        {
          "output_type": "stream",
          "name": "stdout",
          "text": [
            "All labels have both an image and a text file.\n"
          ]
        }
      ]
    },
    {
      "cell_type": "markdown",
      "source": [
        "**Creating custom image dataset**"
      ],
      "metadata": {
        "id": "1Ecnr1gptnBw"
      }
    },
    {
      "cell_type": "markdown",
      "source": [
        "**Create DataFrame with labels and paths to images**"
      ],
      "metadata": {
        "id": "N2c33eGMXven"
      }
    },
    {
      "cell_type": "code",
      "source": [
        "csv_file_path = 'MVSA_Single/labelResultAll.csv'\n",
        "data_dir_path = 'MVSA_Single/data'\n",
        "\n",
        "img_paths = []\n",
        "labels_num = []\n",
        "labels = []\n",
        "\n",
        "txt_paths = []\n",
        "\n",
        "for index, row in labels_df.iterrows():\n",
        "    image_id = row['ID']\n",
        "    label = row['label']\n",
        "\n",
        "    if label == 'positive':\n",
        "      numerical_label = 0\n",
        "    elif label == 'negative':\n",
        "      numerical_label = 1\n",
        "    elif label == 'neutral':\n",
        "      numerical_label = 2\n",
        "    else:\n",
        "      numerical_label = -1\n",
        "\n",
        "    # Construct the expected filename for the image\n",
        "    img_filename = f'{image_id}.jpg'\n",
        "    txt_filename = f'{image_id}.txt'\n",
        "\n",
        "    # Construct the full path to the image file\n",
        "    full_path_img = os.path.join(data_dir_path, img_filename)\n",
        "    full_path_txt = os.path.join(data_dir_path, txt_filename)\n",
        "\n",
        "    if os.path.isfile(full_path_img):\n",
        "      img_paths.append(full_path_img)\n",
        "      labels_num.append(numerical_label)\n",
        "      labels.append(label)\n",
        "\n",
        "    if os.path.isfile(full_path_txt):\n",
        "      txt_paths.append(full_path_txt)\n",
        "\n",
        "# Create a new DataFrame with the image paths and labels\n",
        "df_images = pd.DataFrame({\n",
        "    'img_path': img_paths,\n",
        "    'label': labels\n",
        "})\n",
        "\n",
        "# Create a new DataFram with text paths and labels\n",
        "df_texts = pd.DataFrame({\n",
        "    'txt_path': txt_paths,\n",
        "    'label': labels\n",
        "})"
      ],
      "metadata": {
        "id": "P4tpG-DCgFDF"
      },
      "execution_count": null,
      "outputs": []
    },
    {
      "cell_type": "code",
      "source": [
        "# Plotting the histogram\n",
        "df_images['label'].hist()\n",
        "plt.xlabel('Label')\n",
        "plt.ylabel('Frequency')\n",
        "plt.title('Histogram of Labels')\n",
        "plt.show()"
      ],
      "metadata": {
        "colab": {
          "base_uri": "https://localhost:8080/",
          "height": 472
        },
        "id": "Wfvw1tKk4eVw",
        "outputId": "94b68b28-f996-484f-c7cf-a2c641f290b8"
      },
      "execution_count": null,
      "outputs": [
        {
          "output_type": "display_data",
          "data": {
            "text/plain": [
              "<Figure size 640x480 with 1 Axes>"
            ],
            "image/png": "[encoded data removed]"
          },
          "metadata": {}
        }
      ]
    },
    {
      "cell_type": "markdown",
      "source": [
        "**Comment**\n",
        "\n",
        "We can see from the histogram above that the data set has got a lot of 'positive' labels whereas the rest of the labels are much less in size."
      ],
      "metadata": {
        "id": "KJw9tYXZ4j5w"
      }
    },
    {
      "cell_type": "markdown",
      "source": [
        "**Sanity Checks**"
      ],
      "metadata": {
        "id": "TH5DFdyK76iy"
      }
    },
    {
      "cell_type": "code",
      "source": [
        "df_images.head()"
      ],
      "metadata": {
        "colab": {
          "base_uri": "https://localhost:8080/",
          "height": 206
        },
        "collapsed": true,
        "id": "-mU8Q3w6c50j",
        "outputId": "711d7a44-904d-456f-d485-6b867e33916f"
      },
      "execution_count": null,
      "outputs": [
        {
          "output_type": "execute_result",
          "data": {
            "text/plain": [
              "                 img_path     label\n",
              "0  MVSA_Single/data/1.jpg  positive\n",
              "1  MVSA_Single/data/2.jpg  positive\n",
              "2  MVSA_Single/data/3.jpg  positive\n",
              "3  MVSA_Single/data/4.jpg  positive\n",
              "4  MVSA_Single/data/5.jpg  positive"
            ],
            "text/html": [
              "\n",
              "  <div id=\"df-7573f26e-1d27-4e9f-b91d-97b19f26be97\" class=\"colab-df-container\">\n",
              "    <div>\n",
              "<style scoped>\n",
              "    .dataframe tbody tr th:only-of-type {\n",
              "        vertical-align: middle;\n",
              "    }\n",
              "\n",
              "    .dataframe tbody tr th {\n",
              "        vertical-align: top;\n",
              "    }\n",
              "\n",
              "    .dataframe thead th {\n",
              "        text-align: right;\n",
              "    }\n",
              "</style>\n",
              "<table border=\"1\" class=\"dataframe\">\n",
              "  <thead>\n",
              "    <tr style=\"text-align: right;\">\n",
              "      <th></th>\n",
              "      <th>img_path</th>\n",
              "      <th>label</th>\n",
              "    </tr>\n",
              "  </thead>\n",
              "  <tbody>\n",
              "    <tr>\n",
              "      <th>0</th>\n",
              "      <td>MVSA_Single/data/1.jpg</td>\n",
              "      <td>positive</td>\n",
              "    </tr>\n",
              "    <tr>\n",
              "      <th>1</th>\n",
              "      <td>MVSA_Single/data/2.jpg</td>\n",
              "      <td>positive</td>\n",
              "    </tr>\n",
              "    <tr>\n",
              "      <th>2</th>\n",
              "      <td>MVSA_Single/data/3.jpg</td>\n",
              "      <td>positive</td>\n",
              "    </tr>\n",
              "    <tr>\n",
              "      <th>3</th>\n",
              "      <td>MVSA_Single/data/4.jpg</td>\n",
              "      <td>positive</td>\n",
              "    </tr>\n",
              "    <tr>\n",
              "      <th>4</th>\n",
              "      <td>MVSA_Single/data/5.jpg</td>\n",
              "      <td>positive</td>\n",
              "    </tr>\n",
              "  </tbody>\n",
              "</table>\n",
              "</div>\n",
              "    <div class=\"colab-df-buttons\">\n",
              "\n",
              "  <div class=\"colab-df-container\">\n",
              "    <button class=\"colab-df-convert\" onclick=\"convertToInteractive('df-7573f26e-1d27-4e9f-b91d-97b19f26be97')\"\n",
              "            title=\"Convert this dataframe to an interactive table.\"\n",
              "            style=\"display:none;\">\n",
              "\n",
              "  <svg xmlns=\"http://www.w3.org/2000/svg\" height=\"24px\" viewBox=\"0 -960 960 960\">\n",
              "    <path d=\"M120-120v-720h720v720H120Zm60-500h600v-160H180v160Zm220 220h160v-160H400v160Zm0 220h160v-160H400v160ZM180-400h160v-160H180v160Zm440 0h160v-160H620v160ZM180-180h160v-160H180v160Zm440 0h160v-160H620v160Z\"/>\n",
              "  </svg>\n",
              "    </button>\n",
              "\n",
              "  <style>\n",
              "    .colab-df-container {\n",
              "      display:flex;\n",
              "      gap: 12px;\n",
              "    }\n",
              "\n",
              "    .colab-df-convert {\n",
              "      background-color: #E8F0FE;\n",
              "      border: none;\n",
              "      border-radius: 50%;\n",
              "      cursor: pointer;\n",
              "      display: none;\n",
              "      fill: #1967D2;\n",
              "      height: 32px;\n",
              "      padding: 0 0 0 0;\n",
              "      width: 32px;\n",
              "    }\n",
              "\n",
              "    .colab-df-convert:hover {\n",
              "      background-color: #E2EBFA;\n",
              "      box-shadow: 0px 1px 2px rgba(60, 64, 67, 0.3), 0px 1px 3px 1px rgba(60, 64, 67, 0.15);\n",
              "      fill: #174EA6;\n",
              "    }\n",
              "\n",
              "    .colab-df-buttons div {\n",
              "      margin-bottom: 4px;\n",
              "    }\n",
              "\n",
              "    [theme=dark] .colab-df-convert {\n",
              "      background-color: #3B4455;\n",
              "      fill: #D2E3FC;\n",
              "    }\n",
              "\n",
              "    [theme=dark] .colab-df-convert:hover {\n",
              "      background-color: #434B5C;\n",
              "      box-shadow: 0px 1px 3px 1px rgba(0, 0, 0, 0.15);\n",
              "      filter: drop-shadow(0px 1px 2px rgba(0, 0, 0, 0.3));\n",
              "      fill: #FFFFFF;\n",
              "    }\n",
              "  </style>\n",
              "\n",
              "    <script>\n",
              "      const buttonEl =\n",
              "        document.querySelector('#df-7573f26e-1d27-4e9f-b91d-97b19f26be97 button.colab-df-convert');\n",
              "      buttonEl.style.display =\n",
              "        google.colab.kernel.accessAllowed ? 'block' : 'none';\n",
              "\n",
              "      async function convertToInteractive(key) {\n",
              "        const element = document.querySelector('#df-7573f26e-1d27-4e9f-b91d-97b19f26be97');\n",
              "        const dataTable =\n",
              "          await google.colab.kernel.invokeFunction('convertToInteractive',\n",
              "                                                    [key], {});\n",
              "        if (!dataTable) return;\n",
              "\n",
              "        const docLinkHtml = 'Like what you see? Visit the ' +\n",
              "          '<a target=\"_blank\" href=https://colab.research.google.com/notebooks/data_table.ipynb>data table notebook</a>'\n",
              "          + ' to learn more about interactive tables.';\n",
              "        element.innerHTML = '';\n",
              "        dataTable['output_type'] = 'display_data';\n",
              "        await google.colab.output.renderOutput(dataTable, element);\n",
              "        const docLink = document.createElement('div');\n",
              "        docLink.innerHTML = docLinkHtml;\n",
              "        element.appendChild(docLink);\n",
              "      }\n",
              "    </script>\n",
              "  </div>\n",
              "\n",
              "\n",
              "<div id=\"df-fd95d9f5-f6ef-4201-aa03-d11d7bdef37f\">\n",
              "  <button class=\"colab-df-quickchart\" onclick=\"quickchart('df-fd95d9f5-f6ef-4201-aa03-d11d7bdef37f')\"\n",
              "            title=\"Suggest charts\"\n",
              "            style=\"display:none;\">\n",
              "\n",
              "<svg xmlns=\"http://www.w3.org/2000/svg\" height=\"24px\"viewBox=\"0 0 24 24\"\n",
              "     width=\"24px\">\n",
              "    <g>\n",
              "        <path d=\"M19 3H5c-1.1 0-2 .9-2 2v14c0 1.1.9 2 2 2h14c1.1 0 2-.9 2-2V5c0-1.1-.9-2-2-2zM9 17H7v-7h2v7zm4 0h-2V7h2v10zm4 0h-2v-4h2v4z\"/>\n",
              "    </g>\n",
              "</svg>\n",
              "  </button>\n",
              "\n",
              "<style>\n",
              "  .colab-df-quickchart {\n",
              "      --bg-color: #E8F0FE;\n",
              "      --fill-color: #1967D2;\n",
              "      --hover-bg-color: #E2EBFA;\n",
              "      --hover-fill-color: #174EA6;\n",
              "      --disabled-fill-color: #AAA;\n",
              "      --disabled-bg-color: #DDD;\n",
              "  }\n",
              "\n",
              "  [theme=dark] .colab-df-quickchart {\n",
              "      --bg-color: #3B4455;\n",
              "      --fill-color: #D2E3FC;\n",
              "      --hover-bg-color: #434B5C;\n",
              "      --hover-fill-color: #FFFFFF;\n",
              "      --disabled-bg-color: #3B4455;\n",
              "      --disabled-fill-color: #666;\n",
              "  }\n",
              "\n",
              "  .colab-df-quickchart {\n",
              "    background-color: var(--bg-color);\n",
              "    border: none;\n",
              "    border-radius: 50%;\n",
              "    cursor: pointer;\n",
              "    display: none;\n",
              "    fill: var(--fill-color);\n",
              "    height: 32px;\n",
              "    padding: 0;\n",
              "    width: 32px;\n",
              "  }\n",
              "\n",
              "  .colab-df-quickchart:hover {\n",
              "    background-color: var(--hover-bg-color);\n",
              "    box-shadow: 0 1px 2px rgba(60, 64, 67, 0.3), 0 1px 3px 1px rgba(60, 64, 67, 0.15);\n",
              "    fill: var(--button-hover-fill-color);\n",
              "  }\n",
              "\n",
              "  .colab-df-quickchart-complete:disabled,\n",
              "  .colab-df-quickchart-complete:disabled:hover {\n",
              "    background-color: var(--disabled-bg-color);\n",
              "    fill: var(--disabled-fill-color);\n",
              "    box-shadow: none;\n",
              "  }\n",
              "\n",
              "  .colab-df-spinner {\n",
              "    border: 2px solid var(--fill-color);\n",
              "    border-color: transparent;\n",
              "    border-bottom-color: var(--fill-color);\n",
              "    animation:\n",
              "      spin 1s steps(1) infinite;\n",
              "  }\n",
              "\n",
              "  @keyframes spin {\n",
              "    0% {\n",
              "      border-color: transparent;\n",
              "      border-bottom-color: var(--fill-color);\n",
              "      border-left-color: var(--fill-color);\n",
              "    }\n",
              "    20% {\n",
              "      border-color: transparent;\n",
              "      border-left-color: var(--fill-color);\n",
              "      border-top-color: var(--fill-color);\n",
              "    }\n",
              "    30% {\n",
              "      border-color: transparent;\n",
              "      border-left-color: var(--fill-color);\n",
              "      border-top-color: var(--fill-color);\n",
              "      border-right-color: var(--fill-color);\n",
              "    }\n",
              "    40% {\n",
              "      border-color: transparent;\n",
              "      border-right-color: var(--fill-color);\n",
              "      border-top-color: var(--fill-color);\n",
              "    }\n",
              "    60% {\n",
              "      border-color: transparent;\n",
              "      border-right-color: var(--fill-color);\n",
              "    }\n",
              "    80% {\n",
              "      border-color: transparent;\n",
              "      border-right-color: var(--fill-color);\n",
              "      border-bottom-color: var(--fill-color);\n",
              "    }\n",
              "    90% {\n",
              "      border-color: transparent;\n",
              "      border-bottom-color: var(--fill-color);\n",
              "    }\n",
              "  }\n",
              "</style>\n",
              "\n",
              "  <script>\n",
              "    async function quickchart(key) {\n",
              "      const quickchartButtonEl =\n",
              "        document.querySelector('#' + key + ' button');\n",
              "      quickchartButtonEl.disabled = true;  // To prevent multiple clicks.\n",
              "      quickchartButtonEl.classList.add('colab-df-spinner');\n",
              "      try {\n",
              "        const charts = await google.colab.kernel.invokeFunction(\n",
              "            'suggestCharts', [key], {});\n",
              "      } catch (error) {\n",
              "        console.error('Error during call to suggestCharts:', error);\n",
              "      }\n",
              "      quickchartButtonEl.classList.remove('colab-df-spinner');\n",
              "      quickchartButtonEl.classList.add('colab-df-quickchart-complete');\n",
              "    }\n",
              "    (() => {\n",
              "      let quickchartButtonEl =\n",
              "        document.querySelector('#df-fd95d9f5-f6ef-4201-aa03-d11d7bdef37f button');\n",
              "      quickchartButtonEl.style.display =\n",
              "        google.colab.kernel.accessAllowed ? 'block' : 'none';\n",
              "    })();\n",
              "  </script>\n",
              "</div>\n",
              "\n",
              "    </div>\n",
              "  </div>\n"
            ],
            "application/vnd.google.colaboratory.intrinsic+json": {
              "type": "dataframe",
              "variable_name": "df_images",
              "summary": "{\n  \"name\": \"df_images\",\n  \"rows\": 4869,\n  \"fields\": [\n    {\n      \"column\": \"img_path\",\n      \"properties\": {\n        \"dtype\": \"string\",\n        \"num_unique_values\": 4869,\n        \"samples\": [\n          \"MVSA_Single/data/4122.jpg\",\n          \"MVSA_Single/data/1102.jpg\",\n          \"MVSA_Single/data/1150.jpg\"\n        ],\n        \"semantic_type\": \"\",\n        \"description\": \"\"\n      }\n    },\n    {\n      \"column\": \"label\",\n      \"properties\": {\n        \"dtype\": \"category\",\n        \"num_unique_values\": 3,\n        \"samples\": [\n          \"positive\",\n          \"negative\",\n          \"neutral\"\n        ],\n        \"semantic_type\": \"\",\n        \"description\": \"\"\n      }\n    }\n  ]\n}"
            }
          },
          "metadata": {},
          "execution_count": 8
        }
      ]
    },
    {
      "cell_type": "code",
      "source": [
        "df_texts.head()"
      ],
      "metadata": {
        "colab": {
          "base_uri": "https://localhost:8080/",
          "height": 206
        },
        "id": "ik3uFMbb79JK",
        "outputId": "587b614c-5613-467b-f940-3154a90bf235",
        "collapsed": true
      },
      "execution_count": null,
      "outputs": [
        {
          "output_type": "execute_result",
          "data": {
            "text/plain": [
              "                 txt_path     label\n",
              "0  MVSA_Single/data/1.txt  positive\n",
              "1  MVSA_Single/data/2.txt  positive\n",
              "2  MVSA_Single/data/3.txt  positive\n",
              "3  MVSA_Single/data/4.txt  positive\n",
              "4  MVSA_Single/data/5.txt  positive"
            ],
            "text/html": [
              "\n",
              "  <div id=\"df-d8a99b5a-90ae-4bd9-b3f7-0aac5a64cf1f\" class=\"colab-df-container\">\n",
              "    <div>\n",
              "<style scoped>\n",
              "    .dataframe tbody tr th:only-of-type {\n",
              "        vertical-align: middle;\n",
              "    }\n",
              "\n",
              "    .dataframe tbody tr th {\n",
              "        vertical-align: top;\n",
              "    }\n",
              "\n",
              "    .dataframe thead th {\n",
              "        text-align: right;\n",
              "    }\n",
              "</style>\n",
              "<table border=\"1\" class=\"dataframe\">\n",
              "  <thead>\n",
              "    <tr style=\"text-align: right;\">\n",
              "      <th></th>\n",
              "      <th>txt_path</th>\n",
              "      <th>label</th>\n",
              "    </tr>\n",
              "  </thead>\n",
              "  <tbody>\n",
              "    <tr>\n",
              "      <th>0</th>\n",
              "      <td>MVSA_Single/data/1.txt</td>\n",
              "      <td>positive</td>\n",
              "    </tr>\n",
              "    <tr>\n",
              "      <th>1</th>\n",
              "      <td>MVSA_Single/data/2.txt</td>\n",
              "      <td>positive</td>\n",
              "    </tr>\n",
              "    <tr>\n",
              "      <th>2</th>\n",
              "      <td>MVSA_Single/data/3.txt</td>\n",
              "      <td>positive</td>\n",
              "    </tr>\n",
              "    <tr>\n",
              "      <th>3</th>\n",
              "      <td>MVSA_Single/data/4.txt</td>\n",
              "      <td>positive</td>\n",
              "    </tr>\n",
              "    <tr>\n",
              "      <th>4</th>\n",
              "      <td>MVSA_Single/data/5.txt</td>\n",
              "      <td>positive</td>\n",
              "    </tr>\n",
              "  </tbody>\n",
              "</table>\n",
              "</div>\n",
              "    <div class=\"colab-df-buttons\">\n",
              "\n",
              "  <div class=\"colab-df-container\">\n",
              "    <button class=\"colab-df-convert\" onclick=\"convertToInteractive('df-d8a99b5a-90ae-4bd9-b3f7-0aac5a64cf1f')\"\n",
              "            title=\"Convert this dataframe to an interactive table.\"\n",
              "            style=\"display:none;\">\n",
              "\n",
              "  <svg xmlns=\"http://www.w3.org/2000/svg\" height=\"24px\" viewBox=\"0 -960 960 960\">\n",
              "    <path d=\"M120-120v-720h720v720H120Zm60-500h600v-160H180v160Zm220 220h160v-160H400v160Zm0 220h160v-160H400v160ZM180-400h160v-160H180v160Zm440 0h160v-160H620v160ZM180-180h160v-160H180v160Zm440 0h160v-160H620v160Z\"/>\n",
              "  </svg>\n",
              "    </button>\n",
              "\n",
              "  <style>\n",
              "    .colab-df-container {\n",
              "      display:flex;\n",
              "      gap: 12px;\n",
              "    }\n",
              "\n",
              "    .colab-df-convert {\n",
              "      background-color: #E8F0FE;\n",
              "      border: none;\n",
              "      border-radius: 50%;\n",
              "      cursor: pointer;\n",
              "      display: none;\n",
              "      fill: #1967D2;\n",
              "      height: 32px;\n",
              "      padding: 0 0 0 0;\n",
              "      width: 32px;\n",
              "    }\n",
              "\n",
              "    .colab-df-convert:hover {\n",
              "      background-color: #E2EBFA;\n",
              "      box-shadow: 0px 1px 2px rgba(60, 64, 67, 0.3), 0px 1px 3px 1px rgba(60, 64, 67, 0.15);\n",
              "      fill: #174EA6;\n",
              "    }\n",
              "\n",
              "    .colab-df-buttons div {\n",
              "      margin-bottom: 4px;\n",
              "    }\n",
              "\n",
              "    [theme=dark] .colab-df-convert {\n",
              "      background-color: #3B4455;\n",
              "      fill: #D2E3FC;\n",
              "    }\n",
              "\n",
              "    [theme=dark] .colab-df-convert:hover {\n",
              "      background-color: #434B5C;\n",
              "      box-shadow: 0px 1px 3px 1px rgba(0, 0, 0, 0.15);\n",
              "      filter: drop-shadow(0px 1px 2px rgba(0, 0, 0, 0.3));\n",
              "      fill: #FFFFFF;\n",
              "    }\n",
              "  </style>\n",
              "\n",
              "    <script>\n",
              "      const buttonEl =\n",
              "        document.querySelector('#df-d8a99b5a-90ae-4bd9-b3f7-0aac5a64cf1f button.colab-df-convert');\n",
              "      buttonEl.style.display =\n",
              "        google.colab.kernel.accessAllowed ? 'block' : 'none';\n",
              "\n",
              "      async function convertToInteractive(key) {\n",
              "        const element = document.querySelector('#df-d8a99b5a-90ae-4bd9-b3f7-0aac5a64cf1f');\n",
              "        const dataTable =\n",
              "          await google.colab.kernel.invokeFunction('convertToInteractive',\n",
              "                                                    [key], {});\n",
              "        if (!dataTable) return;\n",
              "\n",
              "        const docLinkHtml = 'Like what you see? Visit the ' +\n",
              "          '<a target=\"_blank\" href=https://colab.research.google.com/notebooks/data_table.ipynb>data table notebook</a>'\n",
              "          + ' to learn more about interactive tables.';\n",
              "        element.innerHTML = '';\n",
              "        dataTable['output_type'] = 'display_data';\n",
              "        await google.colab.output.renderOutput(dataTable, element);\n",
              "        const docLink = document.createElement('div');\n",
              "        docLink.innerHTML = docLinkHtml;\n",
              "        element.appendChild(docLink);\n",
              "      }\n",
              "    </script>\n",
              "  </div>\n",
              "\n",
              "\n",
              "<div id=\"df-328abb44-77c3-4e76-8752-a75b1789114c\">\n",
              "  <button class=\"colab-df-quickchart\" onclick=\"quickchart('df-328abb44-77c3-4e76-8752-a75b1789114c')\"\n",
              "            title=\"Suggest charts\"\n",
              "            style=\"display:none;\">\n",
              "\n",
              "<svg xmlns=\"http://www.w3.org/2000/svg\" height=\"24px\"viewBox=\"0 0 24 24\"\n",
              "     width=\"24px\">\n",
              "    <g>\n",
              "        <path d=\"M19 3H5c-1.1 0-2 .9-2 2v14c0 1.1.9 2 2 2h14c1.1 0 2-.9 2-2V5c0-1.1-.9-2-2-2zM9 17H7v-7h2v7zm4 0h-2V7h2v10zm4 0h-2v-4h2v4z\"/>\n",
              "    </g>\n",
              "</svg>\n",
              "  </button>\n",
              "\n",
              "<style>\n",
              "  .colab-df-quickchart {\n",
              "      --bg-color: #E8F0FE;\n",
              "      --fill-color: #1967D2;\n",
              "      --hover-bg-color: #E2EBFA;\n",
              "      --hover-fill-color: #174EA6;\n",
              "      --disabled-fill-color: #AAA;\n",
              "      --disabled-bg-color: #DDD;\n",
              "  }\n",
              "\n",
              "  [theme=dark] .colab-df-quickchart {\n",
              "      --bg-color: #3B4455;\n",
              "      --fill-color: #D2E3FC;\n",
              "      --hover-bg-color: #434B5C;\n",
              "      --hover-fill-color: #FFFFFF;\n",
              "      --disabled-bg-color: #3B4455;\n",
              "      --disabled-fill-color: #666;\n",
              "  }\n",
              "\n",
              "  .colab-df-quickchart {\n",
              "    background-color: var(--bg-color);\n",
              "    border: none;\n",
              "    border-radius: 50%;\n",
              "    cursor: pointer;\n",
              "    display: none;\n",
              "    fill: var(--fill-color);\n",
              "    height: 32px;\n",
              "    padding: 0;\n",
              "    width: 32px;\n",
              "  }\n",
              "\n",
              "  .colab-df-quickchart:hover {\n",
              "    background-color: var(--hover-bg-color);\n",
              "    box-shadow: 0 1px 2px rgba(60, 64, 67, 0.3), 0 1px 3px 1px rgba(60, 64, 67, 0.15);\n",
              "    fill: var(--button-hover-fill-color);\n",
              "  }\n",
              "\n",
              "  .colab-df-quickchart-complete:disabled,\n",
              "  .colab-df-quickchart-complete:disabled:hover {\n",
              "    background-color: var(--disabled-bg-color);\n",
              "    fill: var(--disabled-fill-color);\n",
              "    box-shadow: none;\n",
              "  }\n",
              "\n",
              "  .colab-df-spinner {\n",
              "    border: 2px solid var(--fill-color);\n",
              "    border-color: transparent;\n",
              "    border-bottom-color: var(--fill-color);\n",
              "    animation:\n",
              "      spin 1s steps(1) infinite;\n",
              "  }\n",
              "\n",
              "  @keyframes spin {\n",
              "    0% {\n",
              "      border-color: transparent;\n",
              "      border-bottom-color: var(--fill-color);\n",
              "      border-left-color: var(--fill-color);\n",
              "    }\n",
              "    20% {\n",
              "      border-color: transparent;\n",
              "      border-left-color: var(--fill-color);\n",
              "      border-top-color: var(--fill-color);\n",
              "    }\n",
              "    30% {\n",
              "      border-color: transparent;\n",
              "      border-left-color: var(--fill-color);\n",
              "      border-top-color: var(--fill-color);\n",
              "      border-right-color: var(--fill-color);\n",
              "    }\n",
              "    40% {\n",
              "      border-color: transparent;\n",
              "      border-right-color: var(--fill-color);\n",
              "      border-top-color: var(--fill-color);\n",
              "    }\n",
              "    60% {\n",
              "      border-color: transparent;\n",
              "      border-right-color: var(--fill-color);\n",
              "    }\n",
              "    80% {\n",
              "      border-color: transparent;\n",
              "      border-right-color: var(--fill-color);\n",
              "      border-bottom-color: var(--fill-color);\n",
              "    }\n",
              "    90% {\n",
              "      border-color: transparent;\n",
              "      border-bottom-color: var(--fill-color);\n",
              "    }\n",
              "  }\n",
              "</style>\n",
              "\n",
              "  <script>\n",
              "    async function quickchart(key) {\n",
              "      const quickchartButtonEl =\n",
              "        document.querySelector('#' + key + ' button');\n",
              "      quickchartButtonEl.disabled = true;  // To prevent multiple clicks.\n",
              "      quickchartButtonEl.classList.add('colab-df-spinner');\n",
              "      try {\n",
              "        const charts = await google.colab.kernel.invokeFunction(\n",
              "            'suggestCharts', [key], {});\n",
              "      } catch (error) {\n",
              "        console.error('Error during call to suggestCharts:', error);\n",
              "      }\n",
              "      quickchartButtonEl.classList.remove('colab-df-spinner');\n",
              "      quickchartButtonEl.classList.add('colab-df-quickchart-complete');\n",
              "    }\n",
              "    (() => {\n",
              "      let quickchartButtonEl =\n",
              "        document.querySelector('#df-328abb44-77c3-4e76-8752-a75b1789114c button');\n",
              "      quickchartButtonEl.style.display =\n",
              "        google.colab.kernel.accessAllowed ? 'block' : 'none';\n",
              "    })();\n",
              "  </script>\n",
              "</div>\n",
              "\n",
              "    </div>\n",
              "  </div>\n"
            ],
            "application/vnd.google.colaboratory.intrinsic+json": {
              "type": "dataframe",
              "variable_name": "df_texts",
              "summary": "{\n  \"name\": \"df_texts\",\n  \"rows\": 4869,\n  \"fields\": [\n    {\n      \"column\": \"txt_path\",\n      \"properties\": {\n        \"dtype\": \"string\",\n        \"num_unique_values\": 4869,\n        \"samples\": [\n          \"MVSA_Single/data/4122.txt\",\n          \"MVSA_Single/data/1102.txt\",\n          \"MVSA_Single/data/1150.txt\"\n        ],\n        \"semantic_type\": \"\",\n        \"description\": \"\"\n      }\n    },\n    {\n      \"column\": \"label\",\n      \"properties\": {\n        \"dtype\": \"category\",\n        \"num_unique_values\": 3,\n        \"samples\": [\n          \"positive\",\n          \"negative\",\n          \"neutral\"\n        ],\n        \"semantic_type\": \"\",\n        \"description\": \"\"\n      }\n    }\n  ]\n}"
            }
          },
          "metadata": {},
          "execution_count": 9
        }
      ]
    },
    {
      "cell_type": "markdown",
      "source": [
        "**Histogram of images size**"
      ],
      "metadata": {
        "id": "FWQnsUfNbV8E"
      }
    },
    {
      "cell_type": "code",
      "source": [
        "widths = []\n",
        "heights = []\n",
        "for _, row in df_images.iterrows():\n",
        "    path = row['img_path']\n",
        "    with Image.open(path) as img:\n",
        "        width, height = img.size\n",
        "        widths.append(width)\n",
        "        heights.append(height)\n",
        "\n",
        "# Plotting the histograms\n",
        "plt.figure(figsize=(12, 6))\n",
        "\n",
        "plt.subplot(1, 2, 1)\n",
        "plt.hist(widths, bins=20, color='skyblue', edgecolor='black')\n",
        "plt.title('Histogram of Image Widths')\n",
        "plt.xlabel('Width')\n",
        "plt.ylabel('Number of Images')\n",
        "\n",
        "plt.subplot(1, 2, 2)\n",
        "plt.hist(heights, bins=20, color='lightgreen', edgecolor='black')\n",
        "plt.title('Histogram of Image Heights')\n",
        "plt.xlabel('Height')\n",
        "plt.ylabel('Number of Images')\n",
        "\n",
        "plt.tight_layout()\n",
        "plt.show()"
      ],
      "metadata": {
        "colab": {
          "base_uri": "https://localhost:8080/",
          "height": 607
        },
        "id": "-eJ4gmsma6ve",
        "outputId": "7e0b60bf-8b7f-4a81-bbd4-4ca7e5523d5d",
        "collapsed": true
      },
      "execution_count": null,
      "outputs": [
        {
          "output_type": "display_data",
          "data": {
            "text/plain": [
              "<Figure size 1200x600 with 2 Axes>"
            ],
            "image/png": "[encoded data removed]"
          },
          "metadata": {}
        }
      ]
    },
    {
      "cell_type": "markdown",
      "source": [
        "**DataFrame with labels and paths to images to csv**"
      ],
      "metadata": {
        "id": "KD2rBKo_YBQf"
      }
    },
    {
      "cell_type": "code",
      "source": [
        "# Assuming 'labels' contains the original categorical labels\n",
        "label_encoder = LabelEncoder()\n",
        "encoded_labels = label_encoder.fit_transform(labels)  # Convert categorical labels to numerical\n",
        "\n",
        "# Calculate class weights for imbalance handling\n",
        "class_weights = compute_class_weight(class_weight='balanced', classes=np.unique(encoded_labels), y=encoded_labels)\n",
        "class_weights_dict = {i: weight for i, weight in enumerate(class_weights)}\n",
        "\n",
        "# One-hot encode the labels in the DataFrame\n",
        "df_images = pd.get_dummies(df_images, columns=['label'])\n",
        "df_texts = pd.get_dummies(df_texts, columns=['label'])\n",
        "\n",
        "# Print or use the class weights as needed\n",
        "print(\"Class weights:\", class_weights_dict)"
      ],
      "metadata": {
        "colab": {
          "base_uri": "https://localhost:8080/"
        },
        "id": "0fJ1IP_MiXJu",
        "outputId": "1938e454-07ce-40ef-e206-bd5b99de7b15"
      },
      "execution_count": null,
      "outputs": [
        {
          "output_type": "stream",
          "name": "stdout",
          "text": [
            "Class weights: {0: 1.3270645952575633, 1: 1.7302771855010661, 2: 0.5993353028064993}\n"
          ]
        }
      ]
    },
    {
      "cell_type": "code",
      "source": [
        "print(df_images.head())"
      ],
      "metadata": {
        "colab": {
          "base_uri": "https://localhost:8080/"
        },
        "collapsed": true,
        "id": "xvIM49Jrilzu",
        "outputId": "a7df2d44-68e1-4c4f-93a6-8bc431abf077"
      },
      "execution_count": null,
      "outputs": [
        {
          "output_type": "stream",
          "name": "stdout",
          "text": [
            "                 img_path  label_negative  label_neutral  label_positive\n",
            "0  MVSA_Single/data/1.jpg           False          False            True\n",
            "1  MVSA_Single/data/2.jpg           False          False            True\n",
            "2  MVSA_Single/data/3.jpg           False          False            True\n",
            "3  MVSA_Single/data/4.jpg           False          False            True\n",
            "4  MVSA_Single/data/5.jpg           False          False            True\n"
          ]
        }
      ]
    },
    {
      "cell_type": "code",
      "source": [
        "print(df_texts.head())"
      ],
      "metadata": {
        "colab": {
          "base_uri": "https://localhost:8080/"
        },
        "collapsed": true,
        "id": "hzt0QpDyipQ-",
        "outputId": "b848b05a-8104-4edf-d13b-f7cabe6b7e35"
      },
      "execution_count": null,
      "outputs": [
        {
          "output_type": "stream",
          "name": "stdout",
          "text": [
            "                 txt_path  label_negative  label_neutral  label_positive\n",
            "0  MVSA_Single/data/1.txt           False          False            True\n",
            "1  MVSA_Single/data/2.txt           False          False            True\n",
            "2  MVSA_Single/data/3.txt           False          False            True\n",
            "3  MVSA_Single/data/4.txt           False          False            True\n",
            "4  MVSA_Single/data/5.txt           False          False            True\n"
          ]
        }
      ]
    },
    {
      "cell_type": "code",
      "source": [
        "df_images.to_csv(\"images_labels.csv\", index=False)"
      ],
      "metadata": {
        "id": "b3R16E09cwV1"
      },
      "execution_count": null,
      "outputs": []
    },
    {
      "cell_type": "code",
      "source": [
        "df_texts.to_csv(\"texts_labels.csv\", index=False)"
      ],
      "metadata": {
        "id": "eOQB7LLLI0SL"
      },
      "execution_count": null,
      "outputs": []
    },
    {
      "cell_type": "markdown",
      "source": [
        "**Custom dataset class**"
      ],
      "metadata": {
        "id": "Kfp8uKIVYJIJ"
      }
    },
    {
      "cell_type": "markdown",
      "source": [
        "**Dataset class for images**"
      ],
      "metadata": {
        "id": "RpEC1eCaJEpK"
      }
    },
    {
      "cell_type": "code",
      "source": [
        "class MyCustomDataset(Dataset):\n",
        "    def __init__(self, labels_file_path, transforms=None):\n",
        "        super().__init__()\n",
        "        self.labels_file_path = labels_file_path\n",
        "        self.labels = pd.read_csv(self.labels_file_path)\n",
        "        self.transform_funcs = transforms\n",
        "\n",
        "    def __len__(self):\n",
        "        return len(self.labels)\n",
        "\n",
        "    def __getitem__(self, idx):\n",
        "        img_path = self.labels.iloc[idx, 0]  # Assuming the first column is 'img_path'\n",
        "        # Assuming the rest of the columns are one-hot encoded labels\n",
        "        label = self.labels.iloc[idx, 1:].values.astype('float32')\n",
        "        label = torch.tensor(label)\n",
        "\n",
        "        img = Image.open(img_path)\n",
        "        if self.transform_funcs:\n",
        "            img = self.transform_funcs(img)\n",
        "\n",
        "        return img, label"
      ],
      "metadata": {
        "id": "Yer1qwyQdVrV"
      },
      "execution_count": null,
      "outputs": []
    },
    {
      "cell_type": "markdown",
      "source": [
        "**Resize images to 300*300 pixels and convert them to tensors**"
      ],
      "metadata": {
        "id": "pWCbMupUYYWJ"
      }
    },
    {
      "cell_type": "code",
      "source": [
        "trans = transforms.Compose([\n",
        "        transforms.Resize((300,300)),\n",
        "        transforms.ToTensor()\n",
        "    ])\n",
        "my_image_dataset = MyCustomDataset(\"/content/images_labels.csv\", trans)"
      ],
      "metadata": {
        "id": "DUqDbFFsdaG9"
      },
      "execution_count": null,
      "outputs": []
    },
    {
      "cell_type": "code",
      "source": [
        "len(my_image_dataset)"
      ],
      "metadata": {
        "colab": {
          "base_uri": "https://localhost:8080/"
        },
        "id": "4pQ1O7JvdhGg",
        "outputId": "6b214120-d207-45fc-e13d-f4ffe2dedb4d"
      },
      "execution_count": null,
      "outputs": [
        {
          "output_type": "execute_result",
          "data": {
            "text/plain": [
              "4869"
            ]
          },
          "metadata": {},
          "execution_count": 18
        }
      ]
    },
    {
      "cell_type": "code",
      "source": [
        "my_dataloader = DataLoader(my_image_dataset, batch_size=4)"
      ],
      "metadata": {
        "id": "B4GzKwN9dvYZ"
      },
      "execution_count": null,
      "outputs": []
    },
    {
      "cell_type": "markdown",
      "source": [
        "**Split to testing and training sets**"
      ],
      "metadata": {
        "id": "STB38KbQ_Z-K"
      }
    },
    {
      "cell_type": "code",
      "source": [
        "total_size = len(my_image_dataset)\n",
        "train_size = int(total_size * 0.8)\n",
        "test_size = total_size - train_size\n",
        "\n",
        "train_dataset, test_dataset = random_split(my_image_dataset, [train_size, test_size])\n",
        "\n",
        "train_loader = DataLoader(train_dataset, batch_size=4, shuffle=True)\n",
        "test_loader = DataLoader(test_dataset, batch_size=4, shuffle=False)\n",
        "\n",
        "for images, labels in test_loader:\n",
        "    print(\"Images shape:\", images.shape)\n",
        "    print(\"Labels:\", labels)\n",
        "    print(labels.shape)\n",
        "    print(labels)\n",
        "    # Optionally, visualize the first image in the batch\n",
        "    # If you're running in a Jupyter notebook or similar, you can use matplotlib:\n",
        "    # import matplotlib.pyplot as plt\n",
        "    # plt.imshow(images[0].permute(1, 2, 0))  # Assuming images are in CxHxW format\n",
        "    # plt.title(f\"Label: {labels[0]}\")\n",
        "    # plt.show()\n",
        "    break\n",
        "\n",
        "print(len(train_loader))\n",
        "print(len(test_loader))"
      ],
      "metadata": {
        "colab": {
          "base_uri": "https://localhost:8080/"
        },
        "id": "uW1pq-rH_Znh",
        "outputId": "cccb40af-3c06-4311-c2fd-54e967e593ab"
      },
      "execution_count": null,
      "outputs": [
        {
          "output_type": "stream",
          "name": "stdout",
          "text": [
            "Images shape: torch.Size([4, 3, 300, 300])\n",
            "Labels: tensor([[0., 0., 1.],\n",
            "        [1., 0., 0.],\n",
            "        [0., 0., 1.],\n",
            "        [0., 0., 1.]])\n",
            "torch.Size([4, 3])\n",
            "tensor([[0., 0., 1.],\n",
            "        [1., 0., 0.],\n",
            "        [0., 0., 1.],\n",
            "        [0., 0., 1.]])\n",
            "974\n",
            "244\n"
          ]
        }
      ]
    },
    {
      "cell_type": "markdown",
      "source": [
        "**CNN PyTorch Implementation**"
      ],
      "metadata": {
        "id": "Hwj4GNdwcQRQ"
      }
    },
    {
      "cell_type": "code",
      "source": [
        "class OurCNN(nn.Module):\n",
        "    def __init__(self):\n",
        "        super().__init__()\n",
        "\n",
        "        # Reduced number of filters\n",
        "        self.conv_layer_1 = nn.Conv2d(in_channels=3, out_channels=70, kernel_size=3, padding=1)\n",
        "        self.conv_layer_2 = nn.Conv2d(in_channels=70, out_channels=35, kernel_size=3, padding=1)\n",
        "        # Removed one convolutional layer\n",
        "\n",
        "        # Pooling layer remains the same\n",
        "        self.pool_layer = nn.MaxPool2d(kernel_size=2, stride=2)\n",
        "\n",
        "        # Adjusted linear layer to match new output size, assuming image size of 400x400\n",
        "        # This needs to be recalculated based on the actual output size after pooling\n",
        "        self.linear_layer_1 = nn.Linear(in_features=35 * 75 * 75, out_features=100)\n",
        "        self.linear_layer_2 = nn.Linear(in_features=100, out_features=3)\n",
        "\n",
        "    def forward(self, x, return_features=False):\n",
        "        x = self.pool_layer(F.relu(self.conv_layer_1(x)))\n",
        "        x = self.pool_layer(F.relu(self.conv_layer_2(x)))\n",
        "\n",
        "        x = x.flatten(start_dim=1)\n",
        "        if return_features:\n",
        "          return x\n",
        "\n",
        "        x = F.relu(self.linear_layer_1(x))\n",
        "        x = self.linear_layer_2(x)\n",
        "\n",
        "        return x"
      ],
      "metadata": {
        "id": "DBHn_l9GcPL9"
      },
      "execution_count": null,
      "outputs": []
    },
    {
      "cell_type": "code",
      "source": [
        "device = \"cuda\" if torch.cuda.is_available() else \"cpu\"\n",
        "class_weights_tensor = torch.FloatTensor(list(class_weights_dict.values())).to(device)\n",
        "model = OurCNN().to(device)\n",
        "\n",
        "optimizer = Adam(model.parameters(), lr=1e-5)\n",
        "#criterion = nn.CrossEntropyLoss(weight=class_weights_tensor)\n",
        "criterion = nn.CrossEntropyLoss()"
      ],
      "metadata": {
        "id": "WnPa2vsAcX5V"
      },
      "execution_count": null,
      "outputs": []
    },
    {
      "cell_type": "markdown",
      "source": [
        "**Comment**\n",
        "\n",
        "Tried to deal with the inbalance in the data with using weights for each data point but it didn't seem to help with the accuracy of the model."
      ],
      "metadata": {
        "id": "Iv2354Df02v_"
      }
    },
    {
      "cell_type": "markdown",
      "source": [
        "**Training**"
      ],
      "metadata": {
        "id": "oKpyRHMGctYg"
      }
    },
    {
      "cell_type": "code",
      "source": [
        "num_epochs = 5\n",
        "\n",
        "epoch_training_loss = []\n",
        "\n",
        "for i in range(num_epochs):\n",
        "  batch_losses = 0\n",
        "  for x,y in train_loader:\n",
        "    x = x.to(device)\n",
        "    y = y.to(device)\n",
        "\n",
        "    out = model(x)\n",
        "\n",
        "    loss = criterion(out, y)\n",
        "\n",
        "    optimizer.zero_grad()\n",
        "    loss.backward()\n",
        "    optimizer.step()\n",
        "\n",
        "    batch_losses += loss.item()\n",
        "\n",
        "  epoch_training_loss.append(batch_losses/len(train_loader))\n",
        "  print(f\"Epoch: {i}, training_loss: {epoch_training_loss[-1]}\")"
      ],
      "metadata": {
        "id": "tBuLO2qNcwWM",
        "colab": {
          "base_uri": "https://localhost:8080/"
        },
        "outputId": "162510f4-189d-476a-b11d-b36ec5be78d5"
      },
      "execution_count": null,
      "outputs": [
        {
          "output_type": "stream",
          "name": "stdout",
          "text": [
            "Epoch: 0, training_loss: 0.9927521021520332\n",
            "Epoch: 1, training_loss: 0.9767971079819501\n",
            "Epoch: 2, training_loss: 0.9635198543448713\n",
            "Epoch: 3, training_loss: 0.9472134448052432\n",
            "Epoch: 4, training_loss: 0.9326566409097805\n"
          ]
        }
      ]
    },
    {
      "cell_type": "code",
      "source": [
        "plt.plot(epoch_training_loss)"
      ],
      "metadata": {
        "id": "ZQzUNiKsOFz8",
        "colab": {
          "base_uri": "https://localhost:8080/",
          "height": 448
        },
        "outputId": "5f0b7328-47a2-4738-90e7-2c10356c1fcb"
      },
      "execution_count": null,
      "outputs": [
        {
          "output_type": "execute_result",
          "data": {
            "text/plain": [
              "[<matplotlib.lines.Line2D at 0x7dbed2a0f2e0>]"
            ]
          },
          "metadata": {},
          "execution_count": 24
        },
        {
          "output_type": "display_data",
          "data": {
            "text/plain": [
              "<Figure size 640x480 with 1 Axes>"
            ],
            "image/png": "[encoded data removed]"
          },
          "metadata": {}
        }
      ]
    },
    {
      "cell_type": "code",
      "source": [
        "with torch.no_grad():\n",
        "    correct = 0\n",
        "    total = 0  # Total number of samples processed\n",
        "    for x, y in test_loader:\n",
        "        x = x.to(device)\n",
        "        y = y.to(device)  # Keep y on the device for comparison\n",
        "\n",
        "        out = model(x)\n",
        "        _, preds = torch.max(out, 1)\n",
        "        # Convert one-hot encoded labels back to class indices for comparison\n",
        "        _, labels_indices = torch.max(y, 1)\n",
        "\n",
        "        correct += (preds == labels_indices).sum().item()\n",
        "        total += y.size(0)\n",
        "\n",
        "    accuracy = (correct / total) * 100\n",
        "    print(f\"Test Accuracy: {accuracy}%\")"
      ],
      "metadata": {
        "id": "4UdCqCbxOKZL",
        "colab": {
          "base_uri": "https://localhost:8080/"
        },
        "outputId": "1a09a9ec-ce2e-46ee-f119-e14044e8a79f"
      },
      "execution_count": null,
      "outputs": [
        {
          "output_type": "stream",
          "name": "stdout",
          "text": [
            "Test Accuracy: 56.365503080082135%\n"
          ]
        }
      ]
    },
    {
      "cell_type": "code",
      "source": [
        "y_true = []\n",
        "y_pred = []\n",
        "\n",
        "model.eval()  # Set the model to evaluation mode\n",
        "with torch.no_grad():\n",
        "    for x, y in test_loader:\n",
        "        x = x.to(device)\n",
        "        y = y.to(device)\n",
        "\n",
        "        out = model(x)\n",
        "        _, preds = torch.max(out, 1)\n",
        "\n",
        "        # Assuming y is one-hot encoded, convert it to class indices\n",
        "        _, labels_indices = torch.max(y, 1)\n",
        "\n",
        "        y_true.extend(labels_indices.cpu().numpy())  # Collect true labels as class indices\n",
        "        y_pred.extend(preds.cpu().numpy())  # Collect predictions\n",
        "\n",
        "# Calculate the confusion matrix\n",
        "cm = confusion_matrix(y_true, y_pred)\n",
        "\n",
        "print(\"Confusion Matrix:\")\n",
        "print(cm)"
      ],
      "metadata": {
        "id": "5Q-vZCVyPhma",
        "colab": {
          "base_uri": "https://localhost:8080/"
        },
        "outputId": "52220843-346d-4051-8920-af83ad29a251"
      },
      "execution_count": null,
      "outputs": [
        {
          "output_type": "stream",
          "name": "stdout",
          "text": [
            "Confusion Matrix:\n",
            "[[  0   0 246]\n",
            " [  0   0 179]\n",
            " [  0   0 549]]\n"
          ]
        }
      ]
    },
    {
      "cell_type": "code",
      "source": [
        "from sklearn.metrics import ConfusionMatrixDisplay\n",
        "\n",
        "disp = ConfusionMatrixDisplay(cm)\n",
        "disp.plot()\n",
        "plt.show()"
      ],
      "metadata": {
        "id": "f7_K069LPtSu",
        "colab": {
          "base_uri": "https://localhost:8080/",
          "height": 449
        },
        "outputId": "2ed1103e-2e06-451d-ac11-5146ce7dbcf7"
      },
      "execution_count": null,
      "outputs": [
        {
          "output_type": "display_data",
          "data": {
            "text/plain": [
              "<Figure size 640x480 with 2 Axes>"
            ],
            "image/png": "[encoded data removed]"
          },
          "metadata": {}
        }
      ]
    },
    {
      "cell_type": "markdown",
      "source": [
        "**Comment**\n",
        "\n",
        "It is clear from the confusion matrix that the model is learning to classify all data from testing set to the 'positive' category. Indeed this is not the expected behaviour. Dealing with inbalance in the data through the calculation of weights was attempted but unfortunately this approach did not improve the performance or the accuracy of the model."
      ],
      "metadata": {
        "id": "q_bhhp7D1HEB"
      }
    },
    {
      "cell_type": "markdown",
      "source": [
        "**Text Classification**"
      ],
      "metadata": {
        "id": "-TnP8S-rHtOV"
      }
    },
    {
      "cell_type": "code",
      "source": [
        "import pandas as pd\n",
        "import torch\n",
        "from torch.utils.data import Dataset, DataLoader\n",
        "import torch.nn as nn\n",
        "from collections import Counter\n",
        "from torch.nn.utils.rnn import pad_sequence\n",
        "from functools import partial\n",
        "from sklearn import preprocessing\n",
        "from sklearn.model_selection import train_test_split\n",
        "import time\n",
        "from sklearn.preprocessing import LabelBinarizer\n",
        "from sklearn.metrics import confusion_matrix\n",
        "import seaborn as sns"
      ],
      "metadata": {
        "id": "GBRs6lGFB9Dq"
      },
      "execution_count": null,
      "outputs": []
    },
    {
      "cell_type": "code",
      "source": [
        "def read_text(file_path):\n",
        "    try:\n",
        "        with open(file_path, 'r', encoding='utf-8') as file:\n",
        "            return file.read()\n",
        "    except UnicodeDecodeError:\n",
        "        with open(file_path, 'r', encoding='ISO-8859-1') as file:\n",
        "            return file.read()\n",
        "\n",
        "# Assuming df_texts is your DataFrame with 'txt_path' and 'label' columns\n",
        "# Read the text content from files\n",
        "df_texts['text'] = df_texts['txt_path'].apply(read_text)\n",
        "\n",
        "# Create a new DataFrame with only 'text' and 'label' columns\n",
        "df_final_texts = df_texts[['text', 'label_negative', 'label_neutral', 'label_positive']]"
      ],
      "metadata": {
        "id": "shHRcC7phUF0"
      },
      "execution_count": null,
      "outputs": []
    },
    {
      "cell_type": "code",
      "source": [
        "print(df_final_texts.head())"
      ],
      "metadata": {
        "id": "j4A8AaZRhfez",
        "colab": {
          "base_uri": "https://localhost:8080/"
        },
        "collapsed": true,
        "outputId": "34ee4658-9fa8-43a3-e2a3-e926fb9e612b"
      },
      "execution_count": null,
      "outputs": [
        {
          "output_type": "stream",
          "name": "stdout",
          "text": [
            "                                                text  label_negative  \\\n",
            "0    How I feel today #legday #jelly #aching #gym \\n           False   \n",
            "1  grattis min griskulting!!!???? va bara tvungen...           False   \n",
            "2  RT @polynminion: The moment I found my favouri...           False   \n",
            "3  #escort We have a young and energetic team and...           False   \n",
            "4  RT @chrisashaffer: Went to SSC today to be a \"...           False   \n",
            "\n",
            "   label_neutral  label_positive  \n",
            "0          False            True  \n",
            "1          False            True  \n",
            "2          False            True  \n",
            "3          False            True  \n",
            "4          False            True  \n"
          ]
        }
      ]
    },
    {
      "cell_type": "code",
      "source": [
        "## retain only text that contain less that 70 tokens to avoid too much padding\n",
        "df_final_texts[\"token_size\"] = df_final_texts[\"text\"].apply(lambda x: len(x.split(' '))) # adds number of words(tokens) of each sentence\n",
        "data = df_final_texts.loc[df_final_texts['token_size'] < 70].copy() # new data frame with sentences only consisting of less than 70 words(tokens)\n",
        "\n",
        "## sampling; we don't need to use the entire data as we only want to show you\n",
        "## the tokenization/batch preparation process\n",
        "data = data.sample(n=4869, replace=False); # sample only 50000 of those sentences\n",
        "\n",
        "print(data.head(10))"
      ],
      "metadata": {
        "id": "jOQ-cbUIkGPD",
        "colab": {
          "base_uri": "https://localhost:8080/"
        },
        "collapsed": true,
        "outputId": "8113ba85-0468-4551-ae9c-fedc2469367b"
      },
      "execution_count": null,
      "outputs": [
        {
          "output_type": "stream",
          "name": "stdout",
          "text": [
            "                                                   text  label_negative  \\\n",
            "3174  RT @cali4niagurl84: A beautiful day go out & u...           False   \n",
            "1681  Blog Post: #VivaBianca #Scorned #NudeScene #Sh...           False   \n",
            "1918  umbrella has arrived. now to actually like... ...            True   \n",
            "3895  480/70-30 BLEMISHED INDUSTRIAL 158/PLY TIRE ht...            True   \n",
            "435   New Womens CHAUS Short Sleeve Black White Lace...           False   \n",
            "1374  @AVFCBlog @oldmansaid @JackWoodwardAV @StanCol...            True   \n",
            "814   He had no #failings which were not owing to a ...           False   \n",
            "2049  UNHEATED IF~1.16CT/2p ROUND 4.70mm DIAMOND CUT...           False   \n",
            "1120  Atelier Cushion Festival - 13th February 2015....           False   \n",
            "2538  RT @SarahDerkum: His two year death anniversar...           False   \n",
            "\n",
            "      label_neutral  label_positive  token_size  \n",
            "3174          False            True          28  \n",
            "1681          False            True          11  \n",
            "1918          False           False          21  \n",
            "3895          False           False           7  \n",
            "435            True           False          14  \n",
            "1374          False           False           9  \n",
            "814           False            True          21  \n",
            "2049          False            True          13  \n",
            "1120          False            True          15  \n",
            "2538          False            True          23  \n"
          ]
        }
      ]
    },
    {
      "cell_type": "code",
      "source": [
        "## This class creates a word -> index mapping (e.g,. \"dad\" -> 5) and vice-versa\n",
        "## (e.g., 5 -> \"dad\") for the dataset\n",
        "class ConstructVocab():\n",
        "    def __init__(self, sentences):\n",
        "        self.sentences = sentences\n",
        "        self.word2idx = {}\n",
        "        self.idx2word = {}\n",
        "        self.vocab = set()\n",
        "        self.create_index()\n",
        "\n",
        "    def create_index(self):\n",
        "        for s in self.sentences:\n",
        "            # update with individual tokens\n",
        "            self.vocab.update(s.split(' '))\n",
        "\n",
        "        # sort the vocab\n",
        "        self.vocab = sorted(self.vocab)\n",
        "\n",
        "        # add a padding token with index 0\n",
        "        self.word2idx['<pad>'] = 0\n",
        "\n",
        "        # word to index mapping\n",
        "        for index, word in enumerate(self.vocab):\n",
        "            self.word2idx[word] = index + 1 # +1 because of pad token\n",
        "\n",
        "        # index to word mapping\n",
        "        for word, index in self.word2idx.items():\n",
        "            self.idx2word[index] = word"
      ],
      "metadata": {
        "id": "9PuMODOmlSjh"
      },
      "execution_count": null,
      "outputs": []
    },
    {
      "cell_type": "code",
      "source": [
        "## construct vocab and indexing\n",
        "inputs = ConstructVocab(data[\"text\"].values.tolist())\n",
        "\n",
        "inputs.vocab[0:10]"
      ],
      "metadata": {
        "collapsed": true,
        "id": "zavEM9F8lVb3",
        "colab": {
          "base_uri": "https://localhost:8080/"
        },
        "outputId": "ca04dd63-b553-4c5e-8d17-89e38f9ffee8"
      },
      "execution_count": null,
      "outputs": [
        {
          "output_type": "execute_result",
          "data": {
            "text/plain": [
              "['',\n",
              " '\\n',\n",
              " '!',\n",
              " '!!',\n",
              " '!!!',\n",
              " '!!!!',\n",
              " '!!!!!!',\n",
              " '!!/):&3\\'wH!2@\"0hGrw$]+?=_=%-$#_+\\'el',\n",
              " '\"',\n",
              " '\"\"impotent\"\"']"
            ]
          },
          "metadata": {},
          "execution_count": 33
        }
      ]
    },
    {
      "cell_type": "code",
      "source": [
        "input_tensor = [[inputs.word2idx[s] for s in es.split(' ')]  for es in data[\"text\"].values.tolist()]"
      ],
      "metadata": {
        "id": "kqUHMyn9lcEf"
      },
      "execution_count": null,
      "outputs": []
    },
    {
      "cell_type": "code",
      "source": [
        "input_tensor[0:2]"
      ],
      "metadata": {
        "collapsed": true,
        "id": "zQRgMrMRldVA",
        "colab": {
          "base_uri": "https://localhost:8080/"
        },
        "outputId": "97d55a10-4a15-46a1-a18f-7f6522ea9a6d"
      },
      "execution_count": null,
      "outputs": [
        {
          "output_type": "execute_result",
          "data": {
            "text/plain": [
              "[[14261,\n",
              "  8119,\n",
              "  9252,\n",
              "  16838,\n",
              "  17917,\n",
              "  19177,\n",
              "  22687,\n",
              "  4793,\n",
              "  25188,\n",
              "  16123,\n",
              "  244,\n",
              "  3822,\n",
              "  3725,\n",
              "  2143,\n",
              "  21215,\n",
              "  25109,\n",
              "  23321,\n",
              "  22556,\n",
              "  17199,\n",
              "  24795,\n",
              "  22097,\n",
              "  13606,\n",
              "  15831,\n",
              "  10269,\n",
              "  18871,\n",
              "  24464,\n",
              "  21151,\n",
              "  2],\n",
              " [9956, 14069, 2187, 1865, 1567, 1900, 965, 2085, 1688, 496, 2]]"
            ]
          },
          "metadata": {},
          "execution_count": 35
        }
      ]
    },
    {
      "cell_type": "code",
      "source": [
        "def max_length(tensor):\n",
        "    return max(len(t) for t in tensor)\n",
        "\n",
        "max_length_inp = max_length(input_tensor)\n",
        "print(max_length_inp)\n",
        "\n",
        "def pad_sequences(x, max_len):\n",
        "    padded = np.zeros((max_len), dtype=np.int64)\n",
        "    if len(x) > max_len: padded[:] = x[:max_len]\n",
        "    else: padded[:len(x)] = x\n",
        "    return padded\n",
        "\n",
        "input_tensor = [pad_sequences(x, max_length_inp) for x in input_tensor]"
      ],
      "metadata": {
        "id": "JBk59H6xlkMb",
        "colab": {
          "base_uri": "https://localhost:8080/"
        },
        "outputId": "626fcea0-ee73-49da-c46a-ac897121129b"
      },
      "execution_count": null,
      "outputs": [
        {
          "output_type": "stream",
          "name": "stdout",
          "text": [
            "30\n"
          ]
        }
      ]
    },
    {
      "cell_type": "code",
      "source": [
        "data[0:2]"
      ],
      "metadata": {
        "collapsed": true,
        "id": "lLy98wh6nrnf",
        "colab": {
          "base_uri": "https://localhost:8080/",
          "height": 112
        },
        "outputId": "920fb82b-ac60-42d1-b4fb-b5ba9a91d550"
      },
      "execution_count": null,
      "outputs": [
        {
          "output_type": "execute_result",
          "data": {
            "text/plain": [
              "                                                   text  label_negative  \\\n",
              "3174  RT @cali4niagurl84: A beautiful day go out & u...           False   \n",
              "1681  Blog Post: #VivaBianca #Scorned #NudeScene #Sh...           False   \n",
              "\n",
              "      label_neutral  label_positive  token_size  \n",
              "3174          False            True          28  \n",
              "1681          False            True          11  "
            ],
            "text/html": [
              "\n",
              "  <div id=\"df-dfdafc2b-7e54-4997-a45e-8829bfd72319\" class=\"colab-df-container\">\n",
              "    <div>\n",
              "<style scoped>\n",
              "    .dataframe tbody tr th:only-of-type {\n",
              "        vertical-align: middle;\n",
              "    }\n",
              "\n",
              "    .dataframe tbody tr th {\n",
              "        vertical-align: top;\n",
              "    }\n",
              "\n",
              "    .dataframe thead th {\n",
              "        text-align: right;\n",
              "    }\n",
              "</style>\n",
              "<table border=\"1\" class=\"dataframe\">\n",
              "  <thead>\n",
              "    <tr style=\"text-align: right;\">\n",
              "      <th></th>\n",
              "      <th>text</th>\n",
              "      <th>label_negative</th>\n",
              "      <th>label_neutral</th>\n",
              "      <th>label_positive</th>\n",
              "      <th>token_size</th>\n",
              "    </tr>\n",
              "  </thead>\n",
              "  <tbody>\n",
              "    <tr>\n",
              "      <th>3174</th>\n",
              "      <td>RT @cali4niagurl84: A beautiful day go out &amp; u...</td>\n",
              "      <td>False</td>\n",
              "      <td>False</td>\n",
              "      <td>True</td>\n",
              "      <td>28</td>\n",
              "    </tr>\n",
              "    <tr>\n",
              "      <th>1681</th>\n",
              "      <td>Blog Post: #VivaBianca #Scorned #NudeScene #Sh...</td>\n",
              "      <td>False</td>\n",
              "      <td>False</td>\n",
              "      <td>True</td>\n",
              "      <td>11</td>\n",
              "    </tr>\n",
              "  </tbody>\n",
              "</table>\n",
              "</div>\n",
              "    <div class=\"colab-df-buttons\">\n",
              "\n",
              "  <div class=\"colab-df-container\">\n",
              "    <button class=\"colab-df-convert\" onclick=\"convertToInteractive('df-dfdafc2b-7e54-4997-a45e-8829bfd72319')\"\n",
              "            title=\"Convert this dataframe to an interactive table.\"\n",
              "            style=\"display:none;\">\n",
              "\n",
              "  <svg xmlns=\"http://www.w3.org/2000/svg\" height=\"24px\" viewBox=\"0 -960 960 960\">\n",
              "    <path d=\"M120-120v-720h720v720H120Zm60-500h600v-160H180v160Zm220 220h160v-160H400v160Zm0 220h160v-160H400v160ZM180-400h160v-160H180v160Zm440 0h160v-160H620v160ZM180-180h160v-160H180v160Zm440 0h160v-160H620v160Z\"/>\n",
              "  </svg>\n",
              "    </button>\n",
              "\n",
              "  <style>\n",
              "    .colab-df-container {\n",
              "      display:flex;\n",
              "      gap: 12px;\n",
              "    }\n",
              "\n",
              "    .colab-df-convert {\n",
              "      background-color: #E8F0FE;\n",
              "      border: none;\n",
              "      border-radius: 50%;\n",
              "      cursor: pointer;\n",
              "      display: none;\n",
              "      fill: #1967D2;\n",
              "      height: 32px;\n",
              "      padding: 0 0 0 0;\n",
              "      width: 32px;\n",
              "    }\n",
              "\n",
              "    .colab-df-convert:hover {\n",
              "      background-color: #E2EBFA;\n",
              "      box-shadow: 0px 1px 2px rgba(60, 64, 67, 0.3), 0px 1px 3px 1px rgba(60, 64, 67, 0.15);\n",
              "      fill: #174EA6;\n",
              "    }\n",
              "\n",
              "    .colab-df-buttons div {\n",
              "      margin-bottom: 4px;\n",
              "    }\n",
              "\n",
              "    [theme=dark] .colab-df-convert {\n",
              "      background-color: #3B4455;\n",
              "      fill: #D2E3FC;\n",
              "    }\n",
              "\n",
              "    [theme=dark] .colab-df-convert:hover {\n",
              "      background-color: #434B5C;\n",
              "      box-shadow: 0px 1px 3px 1px rgba(0, 0, 0, 0.15);\n",
              "      filter: drop-shadow(0px 1px 2px rgba(0, 0, 0, 0.3));\n",
              "      fill: #FFFFFF;\n",
              "    }\n",
              "  </style>\n",
              "\n",
              "    <script>\n",
              "      const buttonEl =\n",
              "        document.querySelector('#df-dfdafc2b-7e54-4997-a45e-8829bfd72319 button.colab-df-convert');\n",
              "      buttonEl.style.display =\n",
              "        google.colab.kernel.accessAllowed ? 'block' : 'none';\n",
              "\n",
              "      async function convertToInteractive(key) {\n",
              "        const element = document.querySelector('#df-dfdafc2b-7e54-4997-a45e-8829bfd72319');\n",
              "        const dataTable =\n",
              "          await google.colab.kernel.invokeFunction('convertToInteractive',\n",
              "                                                    [key], {});\n",
              "        if (!dataTable) return;\n",
              "\n",
              "        const docLinkHtml = 'Like what you see? Visit the ' +\n",
              "          '<a target=\"_blank\" href=https://colab.research.google.com/notebooks/data_table.ipynb>data table notebook</a>'\n",
              "          + ' to learn more about interactive tables.';\n",
              "        element.innerHTML = '';\n",
              "        dataTable['output_type'] = 'display_data';\n",
              "        await google.colab.output.renderOutput(dataTable, element);\n",
              "        const docLink = document.createElement('div');\n",
              "        docLink.innerHTML = docLinkHtml;\n",
              "        element.appendChild(docLink);\n",
              "      }\n",
              "    </script>\n",
              "  </div>\n",
              "\n",
              "\n",
              "<div id=\"df-60f380aa-8f27-4601-80ce-5c458694c658\">\n",
              "  <button class=\"colab-df-quickchart\" onclick=\"quickchart('df-60f380aa-8f27-4601-80ce-5c458694c658')\"\n",
              "            title=\"Suggest charts\"\n",
              "            style=\"display:none;\">\n",
              "\n",
              "<svg xmlns=\"http://www.w3.org/2000/svg\" height=\"24px\"viewBox=\"0 0 24 24\"\n",
              "     width=\"24px\">\n",
              "    <g>\n",
              "        <path d=\"M19 3H5c-1.1 0-2 .9-2 2v14c0 1.1.9 2 2 2h14c1.1 0 2-.9 2-2V5c0-1.1-.9-2-2-2zM9 17H7v-7h2v7zm4 0h-2V7h2v10zm4 0h-2v-4h2v4z\"/>\n",
              "    </g>\n",
              "</svg>\n",
              "  </button>\n",
              "\n",
              "<style>\n",
              "  .colab-df-quickchart {\n",
              "      --bg-color: #E8F0FE;\n",
              "      --fill-color: #1967D2;\n",
              "      --hover-bg-color: #E2EBFA;\n",
              "      --hover-fill-color: #174EA6;\n",
              "      --disabled-fill-color: #AAA;\n",
              "      --disabled-bg-color: #DDD;\n",
              "  }\n",
              "\n",
              "  [theme=dark] .colab-df-quickchart {\n",
              "      --bg-color: #3B4455;\n",
              "      --fill-color: #D2E3FC;\n",
              "      --hover-bg-color: #434B5C;\n",
              "      --hover-fill-color: #FFFFFF;\n",
              "      --disabled-bg-color: #3B4455;\n",
              "      --disabled-fill-color: #666;\n",
              "  }\n",
              "\n",
              "  .colab-df-quickchart {\n",
              "    background-color: var(--bg-color);\n",
              "    border: none;\n",
              "    border-radius: 50%;\n",
              "    cursor: pointer;\n",
              "    display: none;\n",
              "    fill: var(--fill-color);\n",
              "    height: 32px;\n",
              "    padding: 0;\n",
              "    width: 32px;\n",
              "  }\n",
              "\n",
              "  .colab-df-quickchart:hover {\n",
              "    background-color: var(--hover-bg-color);\n",
              "    box-shadow: 0 1px 2px rgba(60, 64, 67, 0.3), 0 1px 3px 1px rgba(60, 64, 67, 0.15);\n",
              "    fill: var(--button-hover-fill-color);\n",
              "  }\n",
              "\n",
              "  .colab-df-quickchart-complete:disabled,\n",
              "  .colab-df-quickchart-complete:disabled:hover {\n",
              "    background-color: var(--disabled-bg-color);\n",
              "    fill: var(--disabled-fill-color);\n",
              "    box-shadow: none;\n",
              "  }\n",
              "\n",
              "  .colab-df-spinner {\n",
              "    border: 2px solid var(--fill-color);\n",
              "    border-color: transparent;\n",
              "    border-bottom-color: var(--fill-color);\n",
              "    animation:\n",
              "      spin 1s steps(1) infinite;\n",
              "  }\n",
              "\n",
              "  @keyframes spin {\n",
              "    0% {\n",
              "      border-color: transparent;\n",
              "      border-bottom-color: var(--fill-color);\n",
              "      border-left-color: var(--fill-color);\n",
              "    }\n",
              "    20% {\n",
              "      border-color: transparent;\n",
              "      border-left-color: var(--fill-color);\n",
              "      border-top-color: var(--fill-color);\n",
              "    }\n",
              "    30% {\n",
              "      border-color: transparent;\n",
              "      border-left-color: var(--fill-color);\n",
              "      border-top-color: var(--fill-color);\n",
              "      border-right-color: var(--fill-color);\n",
              "    }\n",
              "    40% {\n",
              "      border-color: transparent;\n",
              "      border-right-color: var(--fill-color);\n",
              "      border-top-color: var(--fill-color);\n",
              "    }\n",
              "    60% {\n",
              "      border-color: transparent;\n",
              "      border-right-color: var(--fill-color);\n",
              "    }\n",
              "    80% {\n",
              "      border-color: transparent;\n",
              "      border-right-color: var(--fill-color);\n",
              "      border-bottom-color: var(--fill-color);\n",
              "    }\n",
              "    90% {\n",
              "      border-color: transparent;\n",
              "      border-bottom-color: var(--fill-color);\n",
              "    }\n",
              "  }\n",
              "</style>\n",
              "\n",
              "  <script>\n",
              "    async function quickchart(key) {\n",
              "      const quickchartButtonEl =\n",
              "        document.querySelector('#' + key + ' button');\n",
              "      quickchartButtonEl.disabled = true;  // To prevent multiple clicks.\n",
              "      quickchartButtonEl.classList.add('colab-df-spinner');\n",
              "      try {\n",
              "        const charts = await google.colab.kernel.invokeFunction(\n",
              "            'suggestCharts', [key], {});\n",
              "      } catch (error) {\n",
              "        console.error('Error during call to suggestCharts:', error);\n",
              "      }\n",
              "      quickchartButtonEl.classList.remove('colab-df-spinner');\n",
              "      quickchartButtonEl.classList.add('colab-df-quickchart-complete');\n",
              "    }\n",
              "    (() => {\n",
              "      let quickchartButtonEl =\n",
              "        document.querySelector('#df-60f380aa-8f27-4601-80ce-5c458694c658 button');\n",
              "      quickchartButtonEl.style.display =\n",
              "        google.colab.kernel.accessAllowed ? 'block' : 'none';\n",
              "    })();\n",
              "  </script>\n",
              "</div>\n",
              "\n",
              "    </div>\n",
              "  </div>\n"
            ],
            "application/vnd.google.colaboratory.intrinsic+json": {
              "type": "dataframe",
              "summary": "{\n  \"name\": \"data[0:2]\",\n  \"rows\": 2,\n  \"fields\": [\n    {\n      \"column\": \"text\",\n      \"properties\": {\n        \"dtype\": \"string\",\n        \"num_unique_values\": 2,\n        \"samples\": [\n          \"Blog Post: #VivaBianca #Scorned #NudeScene #ShowingAss #Fetish #TiedUp #PosingHot #Beautiful \\n\",\n          \"RT @cali4niagurl84: A beautiful day go out & use YOUR #2A #nra #molonlabe #USA if u r offended by this message OH WELL. Can't fix stupid ht\\u00a1\\u00ad \\n\"\n        ],\n        \"semantic_type\": \"\",\n        \"description\": \"\"\n      }\n    },\n    {\n      \"column\": \"label_negative\",\n      \"properties\": {\n        \"dtype\": \"boolean\",\n        \"num_unique_values\": 1,\n        \"samples\": [\n          false\n        ],\n        \"semantic_type\": \"\",\n        \"description\": \"\"\n      }\n    },\n    {\n      \"column\": \"label_neutral\",\n      \"properties\": {\n        \"dtype\": \"boolean\",\n        \"num_unique_values\": 1,\n        \"samples\": [\n          false\n        ],\n        \"semantic_type\": \"\",\n        \"description\": \"\"\n      }\n    },\n    {\n      \"column\": \"label_positive\",\n      \"properties\": {\n        \"dtype\": \"boolean\",\n        \"num_unique_values\": 1,\n        \"samples\": [\n          true\n        ],\n        \"semantic_type\": \"\",\n        \"description\": \"\"\n      }\n    },\n    {\n      \"column\": \"token_size\",\n      \"properties\": {\n        \"dtype\": \"number\",\n        \"std\": 12,\n        \"min\": 11,\n        \"max\": 28,\n        \"num_unique_values\": 2,\n        \"samples\": [\n          11\n        ],\n        \"semantic_type\": \"\",\n        \"description\": \"\"\n      }\n    }\n  ]\n}"
            }
          },
          "metadata": {},
          "execution_count": 37
        }
      ]
    },
    {
      "cell_type": "markdown",
      "source": [
        "**Split the data**"
      ],
      "metadata": {
        "id": "qrxkfZKmnzDN"
      }
    },
    {
      "cell_type": "code",
      "source": [
        "target_tensor = data[['label_negative', 'label_neutral', 'label_positive']].values\n",
        "\n",
        "# Splitting the data into training and validation sets\n",
        "input_tensor_train, input_tensor_val, target_tensor_train, target_tensor_val = train_test_split(input_tensor, target_tensor, test_size=0.2, random_state=42)\n",
        "\n",
        "# Further split the validation set to obtain a test set\n",
        "input_tensor_val, input_tensor_test, target_tensor_val, target_tensor_test = train_test_split(input_tensor_val, target_tensor_val, test_size=0.5, random_state=42)\n"
      ],
      "metadata": {
        "id": "MlhtAYNfCMk8"
      },
      "execution_count": null,
      "outputs": []
    },
    {
      "cell_type": "code",
      "source": [
        "## Creating training and validation sets using an 80-20 split\n",
        "input_tensor_train, input_tensor_val, target_tensor_train, target_tensor_val = train_test_split(input_tensor, target_tensor, test_size=0.2)\n",
        "\n",
        "## Split the validataion further to obtain a holdout dataset (for testing) -- split 50:50\n",
        "input_tensor_val, input_tensor_test, target_tensor_val, target_tensor_test = train_test_split(input_tensor_val, target_tensor_val, test_size=0.5)\n",
        "\n",
        "## Show length\n",
        "len(input_tensor_train), len(target_tensor_train), len(input_tensor_val), len(target_tensor_val), len(input_tensor_test), len(target_tensor_test)"
      ],
      "metadata": {
        "id": "Sr-98rmFn1ct",
        "colab": {
          "base_uri": "https://localhost:8080/"
        },
        "outputId": "2ac2d600-a9bf-49ee-c8e9-771bdc45e855"
      },
      "execution_count": null,
      "outputs": [
        {
          "output_type": "execute_result",
          "data": {
            "text/plain": [
              "(3895, 3895, 487, 487, 487, 487)"
            ]
          },
          "metadata": {},
          "execution_count": 39
        }
      ]
    },
    {
      "cell_type": "code",
      "source": [
        "TRAIN_BUFFER_SIZE = len(input_tensor_train)\n",
        "VAL_BUFFER_SIZE = len(input_tensor_val)\n",
        "TEST_BUFFER_SIZE = len(input_tensor_test)\n",
        "BATCH_SIZE = 64\n",
        "\n",
        "TRAIN_N_BATCH = TRAIN_BUFFER_SIZE // BATCH_SIZE\n",
        "VAL_N_BATCH = VAL_BUFFER_SIZE // BATCH_SIZE\n",
        "TEST_N_BATCH = TEST_BUFFER_SIZE // BATCH_SIZE"
      ],
      "metadata": {
        "id": "R6_xa3pGoThG"
      },
      "execution_count": null,
      "outputs": []
    },
    {
      "cell_type": "code",
      "source": [
        "from torch.utils.data import Dataset, DataLoader"
      ],
      "metadata": {
        "id": "RchWwGgPoVnz"
      },
      "execution_count": null,
      "outputs": []
    },
    {
      "cell_type": "code",
      "source": [
        "class MyData(Dataset):\n",
        "    def __init__(self, X, y):\n",
        "        self.data = X\n",
        "        self.target = y\n",
        "        self.length = [ np.sum(1 - np.equal(x, 0)) for x in X]\n",
        "\n",
        "    def __getitem__(self, index):\n",
        "        x = self.data[index]\n",
        "        y = self.target[index]\n",
        "        x_len = self.length[index]\n",
        "        return x, y, x_len\n",
        "\n",
        "    def __len__(self):\n",
        "        return len(self.data)"
      ],
      "metadata": {
        "id": "s5rqJa0FoX7f"
      },
      "execution_count": null,
      "outputs": []
    },
    {
      "cell_type": "code",
      "source": [
        "## Dataset instance\n",
        "train_dataset = MyData(input_tensor_train, target_tensor_train)\n",
        "val_dataset = MyData(input_tensor_val, target_tensor_val)\n",
        "test_dataset = MyData(input_tensor_test, target_tensor_test)\n",
        "\n",
        "\n",
        "## Data Loader instance\n",
        "train_dataset = DataLoader(train_dataset, batch_size = BATCH_SIZE,\n",
        "                     drop_last=True,\n",
        "                     shuffle=True)\n",
        "\n",
        "val_dataset = DataLoader(val_dataset, batch_size = BATCH_SIZE,\n",
        "                     drop_last=True,\n",
        "                     shuffle=True)\n",
        "\n",
        "test_dataset = DataLoader(test_dataset, batch_size = BATCH_SIZE,\n",
        "                     drop_last=True,\n",
        "                     shuffle=True)"
      ],
      "metadata": {
        "id": "gkDFHmgaocc9"
      },
      "execution_count": null,
      "outputs": []
    },
    {
      "cell_type": "markdown",
      "source": [
        "**RNN**"
      ],
      "metadata": {
        "id": "RHi9eWkUohe_"
      }
    },
    {
      "cell_type": "code",
      "source": [
        "class EmoRNN(nn.Module):\n",
        "    def __init__(self, vocab_size, embedding_dim, hidden_units, batch_sz, output_size):\n",
        "        super(EmoRNN, self).__init__()\n",
        "        self.batch_sz = batch_sz\n",
        "        self.hidden_units = hidden_units\n",
        "        self.embedding_dim = embedding_dim\n",
        "        self.vocab_size = vocab_size\n",
        "        self.output_size = output_size\n",
        "\n",
        "        ## layers\n",
        "        self.embedding = nn.Embedding(self.vocab_size, self.embedding_dim)\n",
        "        self.dropout = nn.Dropout(p=0.5) # avoid overfitting\n",
        "        self.rnn = nn.RNN(self.embedding_dim, self.hidden_units)\n",
        "        self.fc = nn.Linear(self.hidden_units, self.output_size)\n",
        "\n",
        "    def initialize_hidden_state(self):\n",
        "        return torch.zeros(1, self.batch_sz, self.hidden_units)\n",
        "\n",
        "    def forward(self, x, lens):\n",
        "        x = self.embedding(x)\n",
        "        self.hidden = self.initialize_hidden_state().to(x.device)\n",
        "        output, self.hidden = self.rnn(x, self.hidden) # max_len X batch_size X hidden_units\n",
        "        out = output[-1, :, :]\n",
        "        out = self.dropout(out)\n",
        "        out = self.fc(out)\n",
        "        return out, self.hidden"
      ],
      "metadata": {
        "id": "7a1KIj8Iogng"
      },
      "execution_count": null,
      "outputs": []
    },
    {
      "cell_type": "code",
      "source": [
        "# parameters\n",
        "TRAIN_BUFFER_SIZE = 40000 # len(input_tensor_train)\n",
        "VAL_BUFFER_SIZE = 5000 # len(input_tensor_val)\n",
        "TEST_BUFFER_SIZE = 5000 # len(input_tensor_test)\n",
        "BATCH_SIZE = 64\n",
        "TRAIN_N_BATCH = TRAIN_BUFFER_SIZE // BATCH_SIZE\n",
        "VAL_N_BATCH = VAL_BUFFER_SIZE // BATCH_SIZE\n",
        "TEST_N_BATCH = TEST_BUFFER_SIZE // BATCH_SIZE\n",
        "\n",
        "embedding_dim = 256\n",
        "units = 1024\n",
        "vocab_inp_size = len(inputs.word2idx)\n",
        "target_size = 3 # num_emotions"
      ],
      "metadata": {
        "id": "SSQgCOs4olra"
      },
      "execution_count": null,
      "outputs": []
    },
    {
      "cell_type": "code",
      "source": [
        "device = torch.device(\"cuda:0\" if torch.cuda.is_available() else \"cpu\")"
      ],
      "metadata": {
        "id": "oi5_Gpito2zS"
      },
      "execution_count": null,
      "outputs": []
    },
    {
      "cell_type": "code",
      "source": [
        "## Enabling cuda\n",
        "model = EmoRNN(vocab_inp_size, embedding_dim, units, BATCH_SIZE, target_size)\n",
        "model.to(device)\n",
        "\n",
        "## loss criterion and optimizer for training\n",
        "criterion = nn.CrossEntropyLoss() # the same as log_softmax + NLLLoss\n",
        "optimizer = torch.optim.Adam(model.parameters())"
      ],
      "metadata": {
        "id": "xDqA-fTZo3ga"
      },
      "execution_count": null,
      "outputs": []
    },
    {
      "cell_type": "code",
      "source": [
        "def loss_function(y, prediction):\n",
        "    \"\"\" CrossEntropyLoss expects outputs and class indices as target \"\"\"\n",
        "    ## convert from one-hot encoding to class indices\n",
        "    target = torch.max(y, 1)[1]\n",
        "    loss = criterion(prediction, target)\n",
        "    return loss\n",
        "\n",
        "def accuracy(target, logit):\n",
        "    ''' Obtain accuracy for training round '''\n",
        "    target = torch.max(target, 1)[1] # convert from one-hot encoding to class indices\n",
        "    corrects = (torch.max(logit, 1)[1].data == target).sum()\n",
        "    accuracy = 100.0 * corrects / len(logit)\n",
        "    return accuracy"
      ],
      "metadata": {
        "id": "akJe7Bcqo8jV"
      },
      "execution_count": null,
      "outputs": []
    },
    {
      "cell_type": "code",
      "source": [
        "EPOCHS = 10\n",
        "\n",
        "for epoch in range(EPOCHS):\n",
        "    start = time.time()\n",
        "\n",
        "    ### Initialize hidden state\n",
        "    # TODO: do initialization here.\n",
        "    total_loss = 0\n",
        "    train_accuracy, val_accuracy = 0, 0\n",
        "\n",
        "    ### Training\n",
        "    for (batch, (inp, targ, lens)) in enumerate(train_dataset):\n",
        "        loss = 0\n",
        "        inp = inp.permute(1 ,0).to(device)\n",
        "        predictions, _ = model(inp, lens)\n",
        "\n",
        "        loss += loss_function(targ.to(device), predictions)\n",
        "        batch_loss = (loss / int(targ.shape[1]))\n",
        "        total_loss += batch_loss\n",
        "\n",
        "        optimizer.zero_grad()\n",
        "        loss.backward()\n",
        "        optimizer.step()\n",
        "\n",
        "        batch_accuracy = accuracy(targ.to(device), predictions)\n",
        "        train_accuracy += batch_accuracy\n",
        "\n",
        "        if batch % 100 == 0:\n",
        "            print('Epoch {} Batch {} Val. Loss {:.4f}'.format(epoch + 1,\n",
        "                                                         batch,\n",
        "                                                         batch_loss.cpu().detach().numpy()))\n",
        "\n",
        "    ### Validating\n",
        "    for (batch, (inp, targ, lens)) in enumerate(val_dataset):\n",
        "        predictions,_ = model(inp.permute(1, 0).to(device), lens)\n",
        "        batch_accuracy = accuracy(targ.to(device), predictions)\n",
        "        val_accuracy += batch_accuracy\n",
        "\n",
        "    print('Epoch {} Loss {:.4f} -- Train Acc. {:.4f} -- Val Acc. {:.4f}'.format(epoch + 1,\n",
        "                                                             total_loss / TRAIN_N_BATCH,\n",
        "                                                             train_accuracy / TRAIN_N_BATCH,\n",
        "                                                             val_accuracy / VAL_N_BATCH))\n",
        "    print('Time taken for 1 epoch {} sec\\n'.format(time.time() - start))"
      ],
      "metadata": {
        "collapsed": true,
        "id": "On8ZeRHio_IF",
        "colab": {
          "base_uri": "https://localhost:8080/"
        },
        "outputId": "8f9f308a-edc6-4917-b820-0f3417dfe2e9"
      },
      "execution_count": null,
      "outputs": [
        {
          "output_type": "stream",
          "name": "stdout",
          "text": [
            "Epoch 1 Batch 0 Val. Loss 0.3708\n",
            "Epoch 1 Loss 0.0361 -- Train Acc. 4.8000 -- Val Acc. 4.5272\n",
            "Time taken for 1 epoch 1.575307846069336 sec\n",
            "\n",
            "Epoch 2 Batch 0 Val. Loss 0.3591\n",
            "Epoch 2 Loss 0.0339 -- Train Acc. 4.9550 -- Val Acc. 4.4671\n",
            "Time taken for 1 epoch 0.60666823387146 sec\n",
            "\n",
            "Epoch 3 Batch 0 Val. Loss 0.3265\n",
            "Epoch 3 Loss 0.0341 -- Train Acc. 4.9775 -- Val Acc. 3.8061\n",
            "Time taken for 1 epoch 0.6021246910095215 sec\n",
            "\n",
            "Epoch 4 Batch 0 Val. Loss 0.3494\n",
            "Epoch 4 Loss 0.0336 -- Train Acc. 5.0450 -- Val Acc. 4.6675\n",
            "Time taken for 1 epoch 0.6017403602600098 sec\n",
            "\n",
            "Epoch 5 Batch 0 Val. Loss 0.3158\n",
            "Epoch 5 Loss 0.0336 -- Train Acc. 5.1550 -- Val Acc. 4.5873\n",
            "Time taken for 1 epoch 0.6029157638549805 sec\n",
            "\n",
            "Epoch 6 Batch 0 Val. Loss 0.3326\n",
            "Epoch 6 Loss 0.0331 -- Train Acc. 5.1275 -- Val Acc. 4.6474\n",
            "Time taken for 1 epoch 0.6010804176330566 sec\n",
            "\n",
            "Epoch 7 Batch 0 Val. Loss 0.3473\n",
            "Epoch 7 Loss 0.0325 -- Train Acc. 5.2850 -- Val Acc. 4.6675\n",
            "Time taken for 1 epoch 0.6017439365386963 sec\n",
            "\n",
            "Epoch 8 Batch 0 Val. Loss 0.2883\n",
            "Epoch 8 Loss 0.0334 -- Train Acc. 5.0525 -- Val Acc. 4.5673\n",
            "Time taken for 1 epoch 0.5997951030731201 sec\n",
            "\n",
            "Epoch 9 Batch 0 Val. Loss 0.3084\n",
            "Epoch 9 Loss 0.0340 -- Train Acc. 4.8225 -- Val Acc. 4.7476\n",
            "Time taken for 1 epoch 0.651503324508667 sec\n",
            "\n",
            "Epoch 10 Batch 0 Val. Loss 0.3578\n",
            "Epoch 10 Loss 0.0332 -- Train Acc. 5.1075 -- Val Acc. 4.4872\n",
            "Time taken for 1 epoch 0.6386518478393555 sec\n",
            "\n"
          ]
        }
      ]
    },
    {
      "cell_type": "markdown",
      "source": [
        "**GRU**"
      ],
      "metadata": {
        "id": "pEbN8W_XyD7b"
      }
    },
    {
      "cell_type": "code",
      "source": [
        "class EmoGRU(nn.Module):\n",
        "    def __init__(self, vocab_size, embedding_dim, hidden_units, batch_sz, output_size):\n",
        "        super().__init__()\n",
        "        self.batch_sz = batch_sz\n",
        "        self.hidden_units = hidden_units\n",
        "        self.embedding_dim = embedding_dim\n",
        "        self.vocab_size = vocab_size\n",
        "        self.output_size = output_size\n",
        "\n",
        "        ## layers\n",
        "        self.embedding = nn.Embedding(self.vocab_size, self.embedding_dim)\n",
        "        self.dropout = nn.Dropout(p=0.5) # avoid overfitting\n",
        "        self.rnn = nn.GRU(self.embedding_dim, self.hidden_units)\n",
        "        self.fc = nn.Linear(self.hidden_units, self.output_size)\n",
        "\n",
        "    def initialize_hidden_state(self):\n",
        "        return torch.zeros(1, self.batch_sz, self.hidden_units)\n",
        "\n",
        "    def forward(self, x, lens, return_features=False):\n",
        "        x = self.embedding(x)\n",
        "        self.hidden = self.initialize_hidden_state().to(x.device)\n",
        "        output, self.hidden = self.rnn(x, self.hidden) # max_len X batch_size X hidden_units\n",
        "        out = output[-1, :, :]\n",
        "        if return_features:\n",
        "          return out, self.hidden\n",
        "        out = self.dropout(out)\n",
        "        out = self.fc(out)\n",
        "        return out, self.hidden"
      ],
      "metadata": {
        "id": "5Zyh-sc5yDUh"
      },
      "execution_count": null,
      "outputs": []
    },
    {
      "cell_type": "code",
      "source": [
        "## Enabling cuda\n",
        "model = EmoGRU(vocab_inp_size, embedding_dim, units, BATCH_SIZE, target_size)\n",
        "model.to(device)\n",
        "\n",
        "## loss criterion and optimizer for training\n",
        "criterion = nn.CrossEntropyLoss() # the same as log_softmax + NLLLoss\n",
        "optimizer = torch.optim.Adam(model.parameters())"
      ],
      "metadata": {
        "id": "6Dni7J7vyKYU"
      },
      "execution_count": null,
      "outputs": []
    },
    {
      "cell_type": "code",
      "source": [
        "EPOCHS = 10\n",
        "\n",
        "for epoch in range(EPOCHS):\n",
        "    start = time.time()\n",
        "\n",
        "    ### Initialize hidden state\n",
        "    # TODO: do initialization here.\n",
        "    total_loss = 0\n",
        "    train_accuracy, val_accuracy = 0, 0\n",
        "\n",
        "    ### Training\n",
        "    for (batch, (inp, targ, lens)) in enumerate(train_dataset):\n",
        "        loss = 0\n",
        "        inp = inp.permute(1 ,0).to(device)\n",
        "        predictions, _ = model(inp, lens)\n",
        "\n",
        "        loss += loss_function(targ.to(device), predictions)\n",
        "        batch_loss = (loss / int(targ.shape[1]))\n",
        "        total_loss += batch_loss\n",
        "\n",
        "        optimizer.zero_grad()\n",
        "        loss.backward()\n",
        "        optimizer.step()\n",
        "\n",
        "        batch_accuracy = accuracy(targ.to(device), predictions)\n",
        "        train_accuracy += batch_accuracy\n",
        "\n",
        "        if batch % 100 == 0:\n",
        "            print('Epoch {} Batch {} Val. Loss {:.4f}'.format(epoch + 1,\n",
        "                                                         batch,\n",
        "                                                         batch_loss.cpu().detach().numpy()))\n",
        "\n",
        "    ### Validating\n",
        "    for (batch, (inp, targ, lens)) in enumerate(val_dataset):\n",
        "        predictions,_ = model(inp.permute(1, 0).to(device), lens)\n",
        "        batch_accuracy = accuracy(targ.to(device), predictions)\n",
        "        val_accuracy += batch_accuracy\n",
        "\n",
        "    print('Epoch {} Loss {:.4f} -- Train Acc. {:.4f} -- Val Acc. {:.4f}'.format(epoch + 1,\n",
        "                                                             total_loss / TRAIN_N_BATCH,\n",
        "                                                             train_accuracy / TRAIN_N_BATCH,\n",
        "                                                             val_accuracy / VAL_N_BATCH))\n",
        "    print('Time taken for 1 epoch {} sec\\n'.format(time.time() - start))"
      ],
      "metadata": {
        "collapsed": true,
        "id": "nfGAjTLayNAL",
        "colab": {
          "base_uri": "https://localhost:8080/"
        },
        "outputId": "5e96825a-ab45-4c14-c3a0-a07847f6100a"
      },
      "execution_count": null,
      "outputs": [
        {
          "output_type": "stream",
          "name": "stdout",
          "text": [
            "Epoch 1 Batch 0 Val. Loss 0.3767\n",
            "Epoch 1 Loss 0.0349 -- Train Acc. 4.8825 -- Val Acc. 4.7276\n",
            "Time taken for 1 epoch 1.236325740814209 sec\n",
            "\n",
            "Epoch 2 Batch 0 Val. Loss 0.3189\n",
            "Epoch 2 Loss 0.0315 -- Train Acc. 5.3700 -- Val Acc. 4.6074\n",
            "Time taken for 1 epoch 1.192847490310669 sec\n",
            "\n",
            "Epoch 3 Batch 0 Val. Loss 0.3645\n",
            "Epoch 3 Loss 0.0288 -- Train Acc. 5.7550 -- Val Acc. 4.3670\n",
            "Time taken for 1 epoch 1.216015100479126 sec\n",
            "\n",
            "Epoch 4 Batch 0 Val. Loss 0.2300\n",
            "Epoch 4 Loss 0.0203 -- Train Acc. 7.1425 -- Val Acc. 4.3269\n",
            "Time taken for 1 epoch 1.2163100242614746 sec\n",
            "\n",
            "Epoch 5 Batch 0 Val. Loss 0.1284\n",
            "Epoch 5 Loss 0.0103 -- Train Acc. 8.5375 -- Val Acc. 4.2067\n",
            "Time taken for 1 epoch 1.2423560619354248 sec\n",
            "\n",
            "Epoch 6 Batch 0 Val. Loss 0.0505\n",
            "Epoch 6 Loss 0.0049 -- Train Acc. 9.1675 -- Val Acc. 4.2869\n",
            "Time taken for 1 epoch 1.2437198162078857 sec\n",
            "\n",
            "Epoch 7 Batch 0 Val. Loss 0.0273\n",
            "Epoch 7 Loss 0.0024 -- Train Acc. 9.4150 -- Val Acc. 4.3470\n",
            "Time taken for 1 epoch 1.2431230545043945 sec\n",
            "\n",
            "Epoch 8 Batch 0 Val. Loss 0.0082\n",
            "Epoch 8 Loss 0.0016 -- Train Acc. 9.4725 -- Val Acc. 4.2468\n",
            "Time taken for 1 epoch 1.2549376487731934 sec\n",
            "\n",
            "Epoch 9 Batch 0 Val. Loss 0.0019\n",
            "Epoch 9 Loss 0.0013 -- Train Acc. 9.4650 -- Val Acc. 4.4671\n",
            "Time taken for 1 epoch 1.2524282932281494 sec\n",
            "\n",
            "Epoch 10 Batch 0 Val. Loss 0.0090\n",
            "Epoch 10 Loss 0.0011 -- Train Acc. 9.4750 -- Val Acc. 4.4872\n",
            "Time taken for 1 epoch 1.2613866329193115 sec\n",
            "\n"
          ]
        }
      ]
    },
    {
      "cell_type": "code",
      "source": [
        "test_accuracy = 0\n",
        "all_predictions = []\n",
        "all_targets = []\n",
        "\n",
        "model.eval()  # Set the model to evaluation mode\n",
        "with torch.no_grad():\n",
        "    for (inp, targ, lens) in test_dataset:\n",
        "        predictions, _ = model(inp.permute(1, 0).to(device), lens)\n",
        "        batch_accuracy = accuracy(targ.to(device), predictions)\n",
        "        test_accuracy += batch_accuracy\n",
        "\n",
        "        # Convert targets to class indices if they are one-hot encoded\n",
        "        # Assuming targ is one-hot encoded with a shape [batch_size, num_classes]\n",
        "        targ_indices = torch.argmax(targ.long(), dim=1) if targ.dim() > 1 else targ\n",
        "\n",
        "        # Collect all true labels and predictions for confusion matrix\n",
        "        all_targets.extend(targ_indices.view(-1).cpu().numpy())\n",
        "        all_predictions.extend(torch.argmax(predictions, dim=-1).view(-1).cpu().numpy())\n",
        "\n",
        "print('Test Accuracy: {:.4f}'.format(test_accuracy / len(test_dataset)))\n",
        "\n",
        "# Calculate the confusion matrix\n",
        "cm = confusion_matrix(all_targets, all_predictions)\n",
        "# Normalize the confusion matrix\n",
        "cm_normalized = cm.astype('float') / cm.sum(axis=1)[:, np.newaxis]\n",
        "\n",
        "# Plotting\n",
        "fig, ax = plt.subplots(figsize=(10, 10))\n",
        "sns.heatmap(cm_normalized, annot=True, ax=ax, cmap='Blues', fmt='.2f')\n",
        "ax.set_xlabel('Predicted labels')\n",
        "ax.set_ylabel('True labels')\n",
        "ax.set_title('Confusion Matrix')\n",
        "plt.show()"
      ],
      "metadata": {
        "id": "NjjUIgnqHyTJ",
        "colab": {
          "base_uri": "https://localhost:8080/",
          "height": 890
        },
        "outputId": "375ffe6f-41fd-4f9d-f13d-ea56050bbf75",
        "collapsed": true
      },
      "execution_count": null,
      "outputs": [
        {
          "output_type": "stream",
          "name": "stdout",
          "text": [
            "Test Accuracy: 51.7857\n"
          ]
        },
        {
          "output_type": "display_data",
          "data": {
            "text/plain": [
              "<Figure size 1000x1000 with 2 Axes>"
            ],
            "image/png": "[encoded data removed]"
          },
          "metadata": {}
        }
      ]
    },
    {
      "cell_type": "markdown",
      "source": [
        "**Comment**\n",
        "\n",
        "The effect of the inbalance in the dataset is again becoming visible in this case. The model predicts most of the data to be in the 'positive' category."
      ],
      "metadata": {
        "id": "lsuZdFTw15xg"
      }
    },
    {
      "cell_type": "markdown",
      "source": [
        "**Combined Model**"
      ],
      "metadata": {
        "id": "ASr8EPmZmUZy"
      }
    },
    {
      "cell_type": "markdown",
      "source": [
        "**Unified dataset**"
      ],
      "metadata": {
        "id": "jLCFwV3tnJEl"
      }
    },
    {
      "cell_type": "code",
      "source": [
        "class CombinedDataset(Dataset):\n",
        "    def __init__(self, image_dataset, text_dataset):\n",
        "        assert len(image_dataset) == len(text_dataset), \"Datasets must be of the same size\"\n",
        "        self.image_dataset = image_dataset\n",
        "        self.text_dataset = text_dataset\n",
        "\n",
        "    def __len__(self):\n",
        "        return len(self.image_dataset)\n",
        "\n",
        "    def __getitem__(self, idx):\n",
        "        image, image_label = self.image_dataset[idx]\n",
        "        text_data = self.text_dataset[idx]\n",
        "        if len(text_data) != 3:\n",
        "          raise ValueError(f\"Expected 3 values from text_dataset, got {len(text_data)}\")\n",
        "        text, _, text_length = text_data\n",
        "\n",
        "        # No need to combine labels since they are the same, just use image_label\n",
        "        if not isinstance(image_label, torch.Tensor):\n",
        "            image_label = torch.tensor(image_label, dtype=torch.float)\n",
        "\n",
        "        return image, text, image_label, text_length\n",
        "\n",
        "adjusted_text_dataset = []\n",
        "for item in input_tensor:\n",
        "    token_ids = item\n",
        "    sequence_length = len(token_ids)\n",
        "    adjusted_item = (token_ids, None, sequence_length)  # Adjust structure\n",
        "    adjusted_text_dataset.append(adjusted_item)\n",
        "\n",
        "combined_dataset = CombinedDataset(my_image_dataset, adjusted_text_dataset)\n",
        "\n",
        "train_size = int(0.7 * len(combined_dataset))\n",
        "val_size = int(0.15 * len(combined_dataset))\n",
        "test_size = len(combined_dataset) - train_size - val_size\n",
        "\n",
        "train_dataset, val_dataset, test_dataset = random_split(combined_dataset, [train_size, val_size, test_size])\n",
        "\n",
        "# Create DataLoaders\n",
        "train_loader = DataLoader(train_dataset, batch_size=32, shuffle=True)\n",
        "val_loader = DataLoader(val_dataset, batch_size=32, shuffle=False)\n",
        "test_loader = DataLoader(test_dataset, batch_size=32, shuffle=False)\n",
        "\n",
        "cnn_model = OurCNN()\n",
        "gru_model = EmoGRU(vocab_inp_size, embedding_dim, units, 30, target_size)\n",
        "#gru_model = EmoGRU(vocab_size=10000, embedding_dim=256, hidden_units=128, batch_sz=32, output_size=64)"
      ],
      "metadata": {
        "id": "N6uOkfCYmUKA"
      },
      "execution_count": null,
      "outputs": []
    },
    {
      "cell_type": "code",
      "source": [
        "class CombinedModel(nn.Module):\n",
        "    def __init__(self, cnn_model, gru_model, cnn_output_size, gru_output_size, num_classes):\n",
        "        super(CombinedModel, self).__init__()\n",
        "        self.cnn_model = cnn_model\n",
        "        self.gru_model = gru_model\n",
        "\n",
        "        # Assuming cnn_output_size and gru_output_size are the sizes of the output features from CNN and GRU respectively\n",
        "        self.fc1 = nn.Linear(cnn_output_size + gru_output_size, 512)\n",
        "        self.fc2 = nn.Linear(512, num_classes)\n",
        "\n",
        "    def forward(self, image, text, lens, return_features=False):\n",
        "        # Process image through CNN\n",
        "        image_features = self.cnn_model(image, return_features=True)\n",
        "\n",
        "        # Process text through GRU\n",
        "        text_features, _ = self.gru_model(text, lens, return_features=True)\n",
        "\n",
        "        #text_features = text_features[:, -1, :]\n",
        "        print(len(image_features))\n",
        "        print(len(text_features))\n",
        "\n",
        "        # Concatenate the features from both branches\n",
        "        combined_features = torch.cat((image_features, text_features), dim=1)\n",
        "\n",
        "        # Pass the combined features through the linear layers\n",
        "        x = F.relu(self.fc1(combined_features))\n",
        "        x = self.fc2(x)\n",
        "\n",
        "        return x"
      ],
      "metadata": {
        "id": "GTJAoUgKanMh"
      },
      "execution_count": null,
      "outputs": []
    },
    {
      "cell_type": "code",
      "source": [
        "# Create the combined model\n",
        "combined_model = CombinedModel(cnn_model, gru_model, cnn_output_size=64*75*150, gru_output_size=128, num_classes=3)"
      ],
      "metadata": {
        "id": "D-L6Gllxarcl"
      },
      "execution_count": null,
      "outputs": []
    },
    {
      "cell_type": "code",
      "source": [
        "import torch.optim as optim\n"
      ],
      "metadata": {
        "id": "zjWVUMOEHIMh"
      },
      "execution_count": null,
      "outputs": []
    },
    {
      "cell_type": "code",
      "source": [
        "num_epochs = 10\n",
        "\n",
        "for epoch in range(num_epochs):\n",
        "    combined_model.train()  # Set the model to training mode\n",
        "    running_loss = 0.0\n",
        "\n",
        "    for images, texts, labels, lens in train_loader:  # Include text_lengths in unpacking\n",
        "        optimizer.zero_grad()  # Zero the parameter gradients\n",
        "\n",
        "        # Now including text_lengths in the model call\n",
        "        outputs = combined_model(images, texts, lens)\n",
        "        loss = criterion(outputs, labels)\n",
        "\n",
        "        # Backward and optimize\n",
        "        loss.backward()\n",
        "        optimizer.step()\n",
        "\n",
        "        running_loss += loss.item()\n",
        "\n",
        "    print(f'Epoch [{epoch+1}/{num_epochs}], Loss: {running_loss/len(train_loader)}')"
      ],
      "metadata": {
        "colab": {
          "base_uri": "https://localhost:8080/",
          "height": 400
        },
        "id": "tAO28ysOHDwD",
        "outputId": "e8ace12a-f689-4718-c9f3-b7715cf9b14a"
      },
      "execution_count": null,
      "outputs": [
        {
          "output_type": "stream",
          "name": "stdout",
          "text": [
            "32\n",
            "30\n"
          ]
        },
        {
          "output_type": "error",
          "ename": "RuntimeError",
          "evalue": "Sizes of tensors must match except in dimension 1. Expected size 32 but got size 30 for tensor number 1 in the list.",
          "traceback": [
            "\u001b[0;31m---------------------------------------------------------------------------\u001b[0m",
            "\u001b[0;31mRuntimeError\u001b[0m                              Traceback (most recent call last)",
            "\u001b[0;32m<ipython-input-64-303dae628df5>\u001b[0m in \u001b[0;36m<cell line: 3>\u001b[0;34m()\u001b[0m\n\u001b[1;32m      9\u001b[0m \u001b[0;34m\u001b[0m\u001b[0m\n\u001b[1;32m     10\u001b[0m         \u001b[0;31m# Now including text_lengths in the model call\u001b[0m\u001b[0;34m\u001b[0m\u001b[0;34m\u001b[0m\u001b[0m\n\u001b[0;32m---> 11\u001b[0;31m         \u001b[0moutputs\u001b[0m \u001b[0;34m=\u001b[0m \u001b[0mcombined_model\u001b[0m\u001b[0;34m(\u001b[0m\u001b[0mimages\u001b[0m\u001b[0;34m,\u001b[0m \u001b[0mtexts\u001b[0m\u001b[0;34m,\u001b[0m \u001b[0mlens\u001b[0m\u001b[0;34m)\u001b[0m\u001b[0;34m\u001b[0m\u001b[0;34m\u001b[0m\u001b[0m\n\u001b[0m\u001b[1;32m     12\u001b[0m         \u001b[0mloss\u001b[0m \u001b[0;34m=\u001b[0m \u001b[0mcriterion\u001b[0m\u001b[0;34m(\u001b[0m\u001b[0moutputs\u001b[0m\u001b[0;34m,\u001b[0m \u001b[0mlabels\u001b[0m\u001b[0;34m)\u001b[0m\u001b[0;34m\u001b[0m\u001b[0;34m\u001b[0m\u001b[0m\n\u001b[1;32m     13\u001b[0m \u001b[0;34m\u001b[0m\u001b[0m\n",
            "\u001b[0;32m/usr/local/lib/python3.10/dist-packages/torch/nn/modules/module.py\u001b[0m in \u001b[0;36m_wrapped_call_impl\u001b[0;34m(self, *args, **kwargs)\u001b[0m\n\u001b[1;32m   1530\u001b[0m             \u001b[0;32mreturn\u001b[0m \u001b[0mself\u001b[0m\u001b[0;34m.\u001b[0m\u001b[0m_compiled_call_impl\u001b[0m\u001b[0;34m(\u001b[0m\u001b[0;34m*\u001b[0m\u001b[0margs\u001b[0m\u001b[0;34m,\u001b[0m \u001b[0;34m**\u001b[0m\u001b[0mkwargs\u001b[0m\u001b[0;34m)\u001b[0m  \u001b[0;31m# type: ignore[misc]\u001b[0m\u001b[0;34m\u001b[0m\u001b[0;34m\u001b[0m\u001b[0m\n\u001b[1;32m   1531\u001b[0m         \u001b[0;32melse\u001b[0m\u001b[0;34m:\u001b[0m\u001b[0;34m\u001b[0m\u001b[0;34m\u001b[0m\u001b[0m\n\u001b[0;32m-> 1532\u001b[0;31m             \u001b[0;32mreturn\u001b[0m \u001b[0mself\u001b[0m\u001b[0;34m.\u001b[0m\u001b[0m_call_impl\u001b[0m\u001b[0;34m(\u001b[0m\u001b[0;34m*\u001b[0m\u001b[0margs\u001b[0m\u001b[0;34m,\u001b[0m \u001b[0;34m**\u001b[0m\u001b[0mkwargs\u001b[0m\u001b[0;34m)\u001b[0m\u001b[0;34m\u001b[0m\u001b[0;34m\u001b[0m\u001b[0m\n\u001b[0m\u001b[1;32m   1533\u001b[0m \u001b[0;34m\u001b[0m\u001b[0m\n\u001b[1;32m   1534\u001b[0m     \u001b[0;32mdef\u001b[0m \u001b[0m_call_impl\u001b[0m\u001b[0;34m(\u001b[0m\u001b[0mself\u001b[0m\u001b[0;34m,\u001b[0m \u001b[0;34m*\u001b[0m\u001b[0margs\u001b[0m\u001b[0;34m,\u001b[0m \u001b[0;34m**\u001b[0m\u001b[0mkwargs\u001b[0m\u001b[0;34m)\u001b[0m\u001b[0;34m:\u001b[0m\u001b[0;34m\u001b[0m\u001b[0;34m\u001b[0m\u001b[0m\n",
            "\u001b[0;32m/usr/local/lib/python3.10/dist-packages/torch/nn/modules/module.py\u001b[0m in \u001b[0;36m_call_impl\u001b[0;34m(self, *args, **kwargs)\u001b[0m\n\u001b[1;32m   1539\u001b[0m                 \u001b[0;32mor\u001b[0m \u001b[0m_global_backward_pre_hooks\u001b[0m \u001b[0;32mor\u001b[0m \u001b[0m_global_backward_hooks\u001b[0m\u001b[0;34m\u001b[0m\u001b[0;34m\u001b[0m\u001b[0m\n\u001b[1;32m   1540\u001b[0m                 or _global_forward_hooks or _global_forward_pre_hooks):\n\u001b[0;32m-> 1541\u001b[0;31m             \u001b[0;32mreturn\u001b[0m \u001b[0mforward_call\u001b[0m\u001b[0;34m(\u001b[0m\u001b[0;34m*\u001b[0m\u001b[0margs\u001b[0m\u001b[0;34m,\u001b[0m \u001b[0;34m**\u001b[0m\u001b[0mkwargs\u001b[0m\u001b[0;34m)\u001b[0m\u001b[0;34m\u001b[0m\u001b[0;34m\u001b[0m\u001b[0m\n\u001b[0m\u001b[1;32m   1542\u001b[0m \u001b[0;34m\u001b[0m\u001b[0m\n\u001b[1;32m   1543\u001b[0m         \u001b[0;32mtry\u001b[0m\u001b[0;34m:\u001b[0m\u001b[0;34m\u001b[0m\u001b[0;34m\u001b[0m\u001b[0m\n",
            "\u001b[0;32m<ipython-input-62-8e361adef8ae>\u001b[0m in \u001b[0;36mforward\u001b[0;34m(self, image, text, lens, return_features)\u001b[0m\n\u001b[1;32m     21\u001b[0m \u001b[0;34m\u001b[0m\u001b[0m\n\u001b[1;32m     22\u001b[0m         \u001b[0;31m# Concatenate the features from both branches\u001b[0m\u001b[0;34m\u001b[0m\u001b[0;34m\u001b[0m\u001b[0m\n\u001b[0;32m---> 23\u001b[0;31m         \u001b[0mcombined_features\u001b[0m \u001b[0;34m=\u001b[0m \u001b[0mtorch\u001b[0m\u001b[0;34m.\u001b[0m\u001b[0mcat\u001b[0m\u001b[0;34m(\u001b[0m\u001b[0;34m(\u001b[0m\u001b[0mimage_features\u001b[0m\u001b[0;34m,\u001b[0m \u001b[0mtext_features\u001b[0m\u001b[0;34m)\u001b[0m\u001b[0;34m,\u001b[0m \u001b[0mdim\u001b[0m\u001b[0;34m=\u001b[0m\u001b[0;36m1\u001b[0m\u001b[0;34m)\u001b[0m\u001b[0;34m\u001b[0m\u001b[0;34m\u001b[0m\u001b[0m\n\u001b[0m\u001b[1;32m     24\u001b[0m \u001b[0;34m\u001b[0m\u001b[0m\n\u001b[1;32m     25\u001b[0m         \u001b[0;31m# Pass the combined features through the linear layers\u001b[0m\u001b[0;34m\u001b[0m\u001b[0;34m\u001b[0m\u001b[0m\n",
            "\u001b[0;31mRuntimeError\u001b[0m: Sizes of tensors must match except in dimension 1. Expected size 32 but got size 30 for tensor number 1 in the list."
          ]
        }
      ]
    },
    {
      "cell_type": "markdown",
      "source": [
        "**Comment**\n",
        "\n",
        "The problem seems to be related to the dimensions of each feature. More specifically the size of the image features are 30 whereas the size of the text features is 32."
      ],
      "metadata": {
        "id": "ihaiq3uU2lxV"
      }
    }
  ]
}