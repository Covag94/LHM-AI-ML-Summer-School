{
  "cells": [
    {
      "cell_type": "markdown",
      "metadata": {
        "id": "zemWtDr8gVOf"
      },
      "source": [
        "## Task: Train an EMNIST classifier\n",
        "\n",
        "EMNIST (or extended MNIST) is just like MNIST, a bunch of handwritten images, except instead of just digits (0-9) it also has uppercase and lowercase characters.\n",
        "\n",
        "You are provided with the code to load the EMNIST train and split **datasets**\n",
        "\n",
        "Write and train a classifier for EMNIST. Make sure to\n",
        "\n",
        "- Show how your loss(es) dropped during training.\n",
        "- Show final performance of your model on test data.\n",
        "- Maintain good code quality."
      ]
    },
    {
      "cell_type": "code",
      "execution_count": null,
      "metadata": {
        "id": "4GQMlmw2hwbn"
      },
      "outputs": [],
      "source": [
        "from IPython.display import clear_output"
      ]
    },
    {
      "cell_type": "code",
      "execution_count": null,
      "metadata": {
        "id": "cvcXCUETh0AW"
      },
      "outputs": [],
      "source": [
        "%pip install torch torchvision\n",
        "%pip install matplotlib\n",
        "\n",
        "clear_output()"
      ]
    },
    {
      "cell_type": "code",
      "execution_count": null,
      "metadata": {
        "id": "8j3LQ1Qza-vV"
      },
      "outputs": [],
      "source": [
        "import torch\n",
        "import torch.nn as nn\n",
        "\n",
        "from torchvision.datasets import EMNIST\n",
        "import torchvision.transforms.functional as F\n",
        "from torch.utils.data import DataLoader\n",
        "from torchvision.transforms.functional import to_tensor\n",
        "\n",
        "import numpy as np\n",
        "import matplotlib.pyplot as plt"
      ]
    },
    {
      "cell_type": "code",
      "execution_count": null,
      "metadata": {
        "id": "InCfHKZme7ga",
        "colab": {
          "base_uri": "https://localhost:8080/"
        },
        "outputId": "bc6cc136-e1a6-405e-cc38-eac093711d7d"
      },
      "outputs": [
        {
          "output_type": "stream",
          "name": "stdout",
          "text": [
            "Downloading https://biometrics.nist.gov/cs_links/EMNIST/gzip.zip to emnist_data/EMNIST/raw/gzip.zip\n"
          ]
        },
        {
          "output_type": "stream",
          "name": "stderr",
          "text": [
            "100%|██████████| 561753746/561753746 [00:29<00:00, 19051221.59it/s]\n"
          ]
        },
        {
          "output_type": "stream",
          "name": "stdout",
          "text": [
            "Extracting emnist_data/EMNIST/raw/gzip.zip to emnist_data/EMNIST/raw\n"
          ]
        }
      ],
      "source": [
        "train_data = EMNIST(root='emnist_data/', split='byclass', download=True, transform=to_tensor) # transform to tensor and divide by 255\n",
        "test_data = EMNIST(root='emnist_data/', split='byclass', download=True, train=False, transform=to_tensor) # transform to tensor"
      ]
    },
    {
      "cell_type": "code",
      "execution_count": null,
      "metadata": {
        "colab": {
          "base_uri": "https://localhost:8080/",
          "height": 448
        },
        "id": "Ia6MAyxqhiAi",
        "outputId": "125e8219-40bc-4b5b-cdb6-c496bc73db20"
      },
      "outputs": [
        {
          "output_type": "execute_result",
          "data": {
            "text/plain": [
              "<matplotlib.image.AxesImage at 0x7ca0b4159180>"
            ]
          },
          "metadata": {},
          "execution_count": 5
        },
        {
          "output_type": "display_data",
          "data": {
            "text/plain": [
              "<Figure size 640x480 with 1 Axes>"
            ],
            "image/png": "[encoded data removed]"
          },
          "metadata": {}
        }
      ],
      "source": [
        "plt.imshow(train_data[511][0][0].numpy(), cmap=\"gray\")"
      ]
    },
    {
      "cell_type": "code",
      "execution_count": null,
      "metadata": {
        "colab": {
          "base_uri": "https://localhost:8080/"
        },
        "id": "_IXrAb4BE7PU",
        "outputId": "90505d48-4dc8-49e3-de80-3a73440cd0dc"
      },
      "outputs": [
        {
          "output_type": "execute_result",
          "data": {
            "text/plain": [
              "(697932, torch.Size([1, 28, 28]))"
            ]
          },
          "metadata": {},
          "execution_count": 6
        }
      ],
      "source": [
        "len(train_data), train_data[0][0].shape"
      ]
    },
    {
      "cell_type": "code",
      "execution_count": null,
      "metadata": {
        "colab": {
          "base_uri": "https://localhost:8080/"
        },
        "id": "amzT-XkhFH8X",
        "outputId": "85b7a6e8-904a-4254-81b3-856219dd2412"
      },
      "outputs": [
        {
          "output_type": "execute_result",
          "data": {
            "text/plain": [
              "35"
            ]
          },
          "metadata": {},
          "execution_count": 7
        }
      ],
      "source": [
        "train_data[0][1]"
      ]
    },
    {
      "cell_type": "markdown",
      "metadata": {
        "id": "iWbaqIrYDLEj"
      },
      "source": [
        "**Manual Implementation**"
      ]
    },
    {
      "cell_type": "code",
      "execution_count": null,
      "metadata": {
        "id": "gBQLmJwSHK37"
      },
      "outputs": [],
      "source": [
        "batch_size = 64\n",
        "\n",
        "train_loader = DataLoader(train_data, batch_size = batch_size)\n",
        "test_loader = DataLoader(test_data, batch_size = batch_size, shuffle=False)"
      ]
    },
    {
      "cell_type": "markdown",
      "metadata": {
        "id": "I3kHhmljdtrh"
      },
      "source": [
        "**Initialize weights**"
      ]
    },
    {
      "cell_type": "code",
      "execution_count": null,
      "metadata": {
        "id": "sGrXjf_ZIdOT"
      },
      "outputs": [],
      "source": [
        "ni = 28*28 # number of features per sample(pixels of image)\n",
        "nh = 50 # number of neurons\n",
        "no = 62 # no. of classes\n",
        "\n",
        "W1 = np.random.randn(nh, ni) # -> (50,784)\n",
        "b1 = np.zeros((nh, 1))\n",
        "\n",
        "W2 = np.random.randn(no, nh)\n",
        "b2 = np.zeros((no, 1))"
      ]
    },
    {
      "cell_type": "code",
      "execution_count": null,
      "metadata": {
        "id": "jf-wlfOZJuBm"
      },
      "outputs": [],
      "source": [
        "def sigmoid(z):\n",
        "  return 1/(1+np.exp(-z))\n",
        "\n",
        "def softmax(y_pred):\n",
        "  return np.exp(y_pred)/np.sum(np.exp(y_pred),axis=0,keepDims=True) # y_pred is going to be dimensions(# of test samples, # of classes)\n",
        "\n",
        "def crossentropy(y, y_pred):\n",
        "  return np.mean(np.sum(-y*np.log(y_pred), axis = 0))"
      ]
    },
    {
      "cell_type": "code",
      "execution_count": null,
      "metadata": {
        "id": "tcgAKUAqLnVr"
      },
      "outputs": [],
      "source": [
        "epochs = 15\n",
        "lr = 1e-3"
      ]
    },
    {
      "cell_type": "code",
      "execution_count": null,
      "metadata": {
        "colab": {
          "base_uri": "https://localhost:8080/"
        },
        "id": "l1QiskAqLreP",
        "outputId": "fdfb653e-619a-496f-afbd-e942ec466e82"
      },
      "outputs": [
        {
          "output_type": "stream",
          "name": "stdout",
          "text": [
            "Epoch: 0, loss= 1.3083878131592566\n",
            "Epoch: 1, loss= 1.029763119638446\n",
            "Epoch: 2, loss= 0.8480471890307726\n",
            "Epoch: 3, loss= 0.7569439366262238\n",
            "Epoch: 4, loss= 0.7274313135683047\n",
            "Epoch: 5, loss= 0.7112122811720298\n",
            "Epoch: 6, loss= 0.6936587304942109\n",
            "Epoch: 7, loss= 0.692690858243077\n",
            "Epoch: 8, loss= 0.7038641048381207\n",
            "Epoch: 9, loss= 0.7131824954332214\n",
            "Epoch: 10, loss= 0.71612373741416\n",
            "Epoch: 11, loss= 0.7168023259741503\n",
            "Epoch: 12, loss= 0.7186995939670885\n",
            "Epoch: 13, loss= 0.7265982851804789\n",
            "Epoch: 14, loss= 0.7417870572754662\n"
          ]
        }
      ],
      "source": [
        "training_loses = []\n",
        "\n",
        "for i_epoch in range(epochs):\n",
        "\n",
        "  for X, labels in train_loader:\n",
        "    X = X.numpy().reshape(-1, 28*28).T # X -> (784, 64) where 64 is the batch size not the number of classes\n",
        "    labels.numpy()\n",
        "\n",
        "    y = np.zeros((no, X.shape[1]))\n",
        "    y[labels, np.arange(X.shape[1])] = 1\n",
        "\n",
        "    # forward pass\n",
        "    z1 = W1@X + b1\n",
        "    A1 = sigmoid(z1)\n",
        "\n",
        "    z2 = W2@A1 + b2\n",
        "    y_hat = sigmoid(z2)\n",
        "\n",
        "    # backward pass\n",
        "    dz2 = y_hat - y\n",
        "    dw2 = dz2 @ A1.T\n",
        "    db2 = np.sum(dz2, axis=1, keepdims=True)\n",
        "\n",
        "    dz1 = W2.T @ dz2 * A1 * (1 - A1)\n",
        "    dw1 = dz1 @ X.T\n",
        "    db1 = np.sum(dz1, axis=1, keepdims=True)\n",
        "\n",
        "    # update\n",
        "    W2 -= lr * dw2\n",
        "    b2 -= lr * db2\n",
        "\n",
        "    W1 -= lr * dw1\n",
        "    b1 -= lr * db1\n",
        "\n",
        "    y_pred = np.argmax(y_hat, axis = 0)\n",
        "\n",
        "    loss = crossentropy(y, y_hat)\n",
        "\n",
        "  training_loses.append(loss)\n",
        "  print(f\"Epoch: {i_epoch}, loss= {loss}\")\n",
        "\n",
        "\n",
        "\n"
      ]
    },
    {
      "cell_type": "code",
      "execution_count": null,
      "metadata": {
        "colab": {
          "base_uri": "https://localhost:8080/",
          "height": 449
        },
        "id": "gVuV4kJqBpb-",
        "outputId": "1874669f-4460-4539-e804-256cca7eb6e6"
      },
      "outputs": [
        {
          "output_type": "display_data",
          "data": {
            "text/plain": [
              "<Figure size 640x480 with 1 Axes>"
            ],
            "image/png": "[encoded data removed]"
          },
          "metadata": {}
        }
      ],
      "source": [
        "epochs = range(len(training_loses))\n",
        "plt.plot(epochs, training_loses, label='Training Loss')\n",
        "plt.xlabel('Epoch')\n",
        "plt.ylabel('Loss')\n",
        "plt.legend()\n",
        "plt.show()"
      ]
    },
    {
      "cell_type": "code",
      "execution_count": null,
      "metadata": {
        "colab": {
          "base_uri": "https://localhost:8080/"
        },
        "id": "SqKsXTQHDV91",
        "outputId": "280a0d0a-46d4-4ea7-9f0d-4f68d08c1cd9"
      },
      "outputs": [
        {
          "output_type": "execute_result",
          "data": {
            "text/plain": [
              "0.7105731454656431"
            ]
          },
          "metadata": {},
          "execution_count": 14
        }
      ],
      "source": [
        "correct = 0\n",
        "\n",
        "for X, labels in test_loader:\n",
        "  X = X.numpy().reshape(-1, 28*28).T\n",
        "  labels = labels.numpy()\n",
        "\n",
        "  y = np.zeros((no, X.shape[1]))\n",
        "  #print(y.shape)\n",
        "  y[labels, np.arange(X.shape[1])] = 1\n",
        "\n",
        "  Z1 = W1@X + b1\n",
        "  A1 = sigmoid(Z1)\n",
        "\n",
        "  Z2 = W2@A1 + b2\n",
        "  A2 = sigmoid(Z2)\n",
        "\n",
        "  y_pred = np.argmax(A2, axis=0)\n",
        "  #print(f'A2 shape {A2.shape} , and prediction shape : {y_pred.shape}')\n",
        "  correct += np.sum(labels == y_pred)\n",
        "\n",
        "accuracy = correct / len(test_data)\n",
        "accuracy"
      ]
    },
    {
      "cell_type": "code",
      "execution_count": null,
      "metadata": {
        "colab": {
          "base_uri": "https://localhost:8080/",
          "height": 448
        },
        "id": "pnyJCZKDND4p",
        "outputId": "5f215f63-ff63-42ae-bf04-0a748e917c3d"
      },
      "outputs": [
        {
          "output_type": "execute_result",
          "data": {
            "text/plain": [
              "<matplotlib.image.AxesImage at 0x7ca0ac864850>"
            ]
          },
          "metadata": {},
          "execution_count": 15
        },
        {
          "output_type": "display_data",
          "data": {
            "text/plain": [
              "<Figure size 640x480 with 1 Axes>"
            ],
            "image/png": "[encoded data removed]"
          },
          "metadata": {}
        }
      ],
      "source": [
        "plt.imshow(X[:,30].reshape(28,28), cmap=\"gray\")"
      ]
    },
    {
      "cell_type": "code",
      "execution_count": null,
      "metadata": {
        "colab": {
          "base_uri": "https://localhost:8080/"
        },
        "id": "geNuRnheNK3C",
        "outputId": "8751c404-f4d6-4a96-8ca8-d6e0e5cd23a9"
      },
      "outputs": [
        {
          "output_type": "execute_result",
          "data": {
            "text/plain": [
              "array([8.05851463e-04, 1.17670122e-03, 1.51125910e-03, 3.56054993e-03,\n",
              "       8.28632715e-05, 1.98245383e-02, 8.52873234e-06, 1.42091654e-01,\n",
              "       8.62145912e-05, 4.18541848e-03, 3.23284823e-05, 2.31656872e-05,\n",
              "       7.73597975e-05, 1.24573210e-04, 7.90392126e-07, 1.20753450e-06,\n",
              "       5.48811146e-04, 1.49883514e-05, 7.59123322e-04, 1.83026522e-03,\n",
              "       7.00806054e-07, 3.85763202e-07, 1.07929640e-05, 4.11986559e-05,\n",
              "       1.78920193e-04, 2.84016291e-06, 5.21561585e-04, 1.43036106e-06,\n",
              "       9.42819681e-02, 4.53404562e-06, 2.00659134e-03, 5.51141079e-04,\n",
              "       4.76685336e-07, 5.89203314e-05, 8.38399991e-04, 2.31348543e-05,\n",
              "       7.19891468e-04, 3.64093250e-06, 2.42690241e-05, 5.93191853e-07,\n",
              "       3.17680809e-07, 8.05155319e-06, 1.61075764e-02, 1.08717840e-04,\n",
              "       3.09258350e-04, 4.57321121e-03, 3.49654825e-07, 1.50722092e-04,\n",
              "       4.67157873e-07, 4.26601754e-05, 1.84449833e-04, 1.02581158e-05,\n",
              "       2.35309158e-03, 1.22420820e-08, 3.31869010e-02, 9.54858092e-06,\n",
              "       7.46453438e-05, 6.71608695e-05, 4.80621663e-08, 5.97958127e-05,\n",
              "       8.73306067e-04, 4.44215293e-05])"
            ]
          },
          "metadata": {},
          "execution_count": 16
        }
      ],
      "source": [
        "A2[:, 1]"
      ]
    },
    {
      "cell_type": "code",
      "execution_count": null,
      "metadata": {
        "id": "eZkCPze2Tolm"
      },
      "outputs": [],
      "source": []
    },
    {
      "cell_type": "markdown",
      "metadata": {
        "id": "VLBosxRxvKfo"
      },
      "source": [
        "**PyTorch implementation**"
      ]
    },
    {
      "cell_type": "markdown",
      "metadata": {
        "id": "3uFTs7_qHD1O"
      },
      "source": [
        "**Two hidden layers**"
      ]
    },
    {
      "cell_type": "code",
      "execution_count": null,
      "metadata": {
        "id": "QVoV9dam_HVe"
      },
      "outputs": [],
      "source": [
        "import torch\n",
        "import torch.nn as nn\n",
        "\n",
        "from torchvision.datasets import EMNIST\n",
        "import torchvision.transforms.functional as F\n",
        "from torch.utils.data import DataLoader\n",
        "from torchvision.transforms.functional import to_tensor\n",
        "from torch.optim import Adam\n",
        "\n",
        "import numpy as np\n",
        "import matplotlib.pyplot as plt"
      ]
    },
    {
      "cell_type": "code",
      "execution_count": null,
      "metadata": {
        "id": "TQCqojrT99WQ"
      },
      "outputs": [],
      "source": [
        "# Simple vanilla NN with two linear layers and sigmoid as activation function\n",
        "class Net(nn.Module):\n",
        "  def __init__(self, input_size, hidden_size, output_size):\n",
        "    super().__init__() # Need to define super constructor as is inheritting from nn class\n",
        "\n",
        "    # Calling constructor of nn.Module to initialise the nn.Module of our Net class\n",
        "    self.layer1 = nn.Linear(in_features=input_size, out_features=hidden_size)\n",
        "    self.layer2 = nn.Linear(in_features=hidden_size, out_features=output_size)\n",
        "\n",
        "  # This function needs to be called forward. Defines forward pass of network\n",
        "  def forward(self, x):\n",
        "    # First layer\n",
        "    # Pass x as input: linear + non_linear\n",
        "    x1 = self.layer1(x)\n",
        "    x2 = nn.functional.relu(x1)\n",
        "\n",
        "    x3 = self.layer2(x2)\n",
        "\n",
        "    return x3"
      ]
    },
    {
      "cell_type": "code",
      "execution_count": null,
      "metadata": {
        "id": "mY9CxRQb-rjm"
      },
      "outputs": [],
      "source": [
        "# Initialize instance of custom Net class\n",
        "# Input 28*28 pixels(flattened to 784-dimensional vector), 50 neurons for hidden layer, output of 62 classes\n",
        "model = Net(28*28, 250, 62)\n",
        "\n",
        "# Check if gpu is available to use cuda\n",
        "device = \"cuda\" if torch.cuda.is_available() else \"cpu\"\n",
        "\n",
        "# Pass model to gpu\n",
        "model.to(device)\n",
        "\n",
        "# Initialize Adam optimizer\n",
        "optimizer = Adam(model.parameters(), lr=1e-4)\n",
        "# Initialize loss function to be used(logSoftMax is included, hence it's not declared explicitly)\n",
        "criterion = nn.CrossEntropyLoss()"
      ]
    },
    {
      "cell_type": "code",
      "execution_count": null,
      "metadata": {
        "colab": {
          "base_uri": "https://localhost:8080/"
        },
        "id": "9p3xuQGs_S0Z",
        "outputId": "efaf6d7b-d23f-49af-873f-8cb476268115"
      },
      "outputs": [
        {
          "output_type": "stream",
          "name": "stdout",
          "text": [
            "Epoch 0: Loss:1.1375352551352096\n",
            "Epoch 1: Loss:0.7400400900696475\n",
            "Epoch 2: Loss:0.6264199478042447\n",
            "Epoch 3: Loss:0.5716281201879672\n",
            "Epoch 4: Loss:0.5382390107290692\n",
            "Epoch 5: Loss:0.515226579334962\n",
            "Epoch 6: Loss:0.4981245258541232\n",
            "Epoch 7: Loss:0.48484361775912166\n",
            "Epoch 8: Loss:0.4741490825207304\n",
            "Epoch 9: Loss:0.4652671520682774\n",
            "Epoch 10: Loss:0.4577348345469471\n",
            "Epoch 11: Loss:0.45119249904738334\n",
            "Epoch 12: Loss:0.4454756852573437\n",
            "Epoch 13: Loss:0.44040232770146304\n",
            "Epoch 14: Loss:0.4358566908888941\n"
          ]
        }
      ],
      "source": [
        "num_epochs = 15\n",
        "train_loss = []\n",
        "model.train()\n",
        "\n",
        "for i in range(num_epochs):\n",
        "  epoch_loss = []\n",
        "  for x,y in train_loader:\n",
        "    x = x.view(-1,28*28).to(device)\n",
        "    y = y.to(device)\n",
        "\n",
        "    # Forward pass\n",
        "    out = model(x)\n",
        "\n",
        "    # Calculate loss\n",
        "    loss = criterion(out, y)\n",
        "\n",
        "    # Zero previous gradients\n",
        "    optimizer.zero_grad()\n",
        "    # Backward pass\n",
        "    loss.backward()\n",
        "    # Update weights\n",
        "    optimizer.step()\n",
        "\n",
        "    epoch_loss.append(loss.item())\n",
        "\n",
        "  train_loss.append(np.mean(epoch_loss))\n",
        "  print(f\"Epoch {i}: Loss:{train_loss[-1]}\")"
      ]
    },
    {
      "cell_type": "code",
      "execution_count": null,
      "metadata": {
        "colab": {
          "base_uri": "https://localhost:8080/",
          "height": 448
        },
        "id": "iLB1tLldJ4gB",
        "outputId": "533aa9ef-4553-46fc-80e2-b2050032a1c5"
      },
      "outputs": [
        {
          "output_type": "execute_result",
          "data": {
            "text/plain": [
              "[<matplotlib.lines.Line2D at 0x7ca0ac841180>]"
            ]
          },
          "metadata": {},
          "execution_count": 21
        },
        {
          "output_type": "display_data",
          "data": {
            "text/plain": [
              "<Figure size 640x480 with 1 Axes>"
            ],
            "image/png": "[encoded data removed]"
          },
          "metadata": {}
        }
      ],
      "source": [
        "plt.plot(train_loss)"
      ]
    },
    {
      "cell_type": "code",
      "execution_count": null,
      "metadata": {
        "colab": {
          "base_uri": "https://localhost:8080/"
        },
        "id": "uwvPq_GcJ5QZ",
        "outputId": "79a16c0b-64e5-4ba5-e9b5-2ea7cdd0f420"
      },
      "outputs": [
        {
          "output_type": "stream",
          "name": "stdout",
          "text": [
            "Accuracy: 84.43987861385969\n"
          ]
        }
      ],
      "source": [
        "model.eval()\n",
        "correct = 0\n",
        "with torch.no_grad():\n",
        "  for x,y in test_loader:\n",
        "    x = x.view(-1,28*28).to(device)\n",
        "    y = y.numpy()\n",
        "\n",
        "    out = model(x).cpu().numpy()  # Forward pass\n",
        "\n",
        "    preds = np.argmax(out, axis=-1)\n",
        "\n",
        "    correct += np.sum(preds==y)\n",
        "\n",
        "accuracy = (correct/len(test_data))*100\n",
        "print(f\"Accuracy: {accuracy}\")"
      ]
    },
    {
      "cell_type": "markdown",
      "metadata": {
        "id": "X2iTlFkaGqgh"
      },
      "source": [
        "**Increasing the number of neurons from 50 to 70 and keeping the same number of hidden layers increased the accuracy of the model from 77.5% to 81.4%. Then a further increase in the number of neurons from 70 to 100 increased the accuracy to 82.5%. Further increase to 150 neurons gives a 83.5% accuracy. For 200 neurons in the hiiden layer an accuracy of 84% was achieved.**"
      ]
    },
    {
      "cell_type": "code",
      "execution_count": null,
      "metadata": {
        "colab": {
          "base_uri": "https://localhost:8080/"
        },
        "id": "cen2U5oOJ8ca",
        "outputId": "b7825717-375b-4311-84df-02899b39cf57"
      },
      "outputs": [
        {
          "output_type": "execute_result",
          "data": {
            "text/plain": [
              "array([15,  7, 38,  4,  5,  4, 32, 19,  2,  2, 30, 20, 40, 40, 51,  4, 13,\n",
              "        8, 12, 28, 28, 28, 23, 40,  5, 30, 13, 40,  3,  8,  7, 55, 28,  0,\n",
              "        5])"
            ]
          },
          "metadata": {},
          "execution_count": 23
        }
      ],
      "source": [
        "y"
      ]
    },
    {
      "cell_type": "code",
      "execution_count": null,
      "metadata": {
        "colab": {
          "base_uri": "https://localhost:8080/"
        },
        "id": "FahZi-R1J9Dh",
        "outputId": "ebf102c5-d9d0-4d71-fd83-92f11515c28e"
      },
      "outputs": [
        {
          "output_type": "execute_result",
          "data": {
            "text/plain": [
              "array([15,  7, 12,  4,  5,  4, 32, 19,  2,  2, 30, 46, 40, 40, 51,  4, 13,\n",
              "        8, 12, 28, 28, 28, 23, 40,  5, 30, 13, 40,  3,  8,  7, 55, 28, 24,\n",
              "        5])"
            ]
          },
          "metadata": {},
          "execution_count": 24
        }
      ],
      "source": [
        "preds"
      ]
    },
    {
      "cell_type": "code",
      "execution_count": null,
      "metadata": {
        "colab": {
          "base_uri": "https://localhost:8080/"
        },
        "id": "u5zWkB0IJ-MR",
        "outputId": "0d243942-393f-43c9-dbeb-d87bc17ee1f2"
      },
      "outputs": [
        {
          "output_type": "execute_result",
          "data": {
            "text/plain": [
              "32"
            ]
          },
          "metadata": {},
          "execution_count": 25
        }
      ],
      "source": [
        "np.sum(preds == y)"
      ]
    },
    {
      "cell_type": "markdown",
      "source": [
        "**CNN approach**"
      ],
      "metadata": {
        "id": "gzamGhdKvbpH"
      }
    },
    {
      "cell_type": "markdown",
      "source": [
        "**Three convolutional layers**"
      ],
      "metadata": {
        "id": "HdRYhsmpeeTk"
      }
    },
    {
      "cell_type": "code",
      "source": [
        "class OurCNN(nn.Module):\n",
        "  def __init__(self):\n",
        "    super().__init__()\n",
        "\n",
        "    # out_channels= # of feature maps to be learned or # of features\n",
        "    self.conv_layer_1 = nn.Conv2d(in_channels=1, out_channels=140, kernel_size=3, padding=1)\n",
        "    self.conv_layer_2 = nn.Conv2d(in_channels=140, out_channels=120, kernel_size=3, padding=1)\n",
        "    self.conv_layer_3 = nn.Conv2d(in_channels=120, out_channels=64, kernel_size=3, padding=1)\n",
        "\n",
        "    # Polling layer conceptually used to reduce spatial dimensions of feature maps and introduce translational variance\n",
        "    self.pool_layer = nn.MaxPool2d(kernel_size=2, stride=2)\n",
        "\n",
        "    self.linear_layer_1 = nn.Linear(in_features=64*3*3, out_features=100)\n",
        "    self.linear_layer_2 = nn.Linear(in_features=100, out_features=62)\n",
        "\n",
        "  def forward(self, x): # x -> (B, C, H, W)\n",
        "    x = self.pool_layer(nn.functional.relu(self.conv_layer_1(x)))\n",
        "    x = self.pool_layer(nn.functional.relu(self.conv_layer_2(x)))\n",
        "    x = self.pool_layer(nn.functional.relu(self.conv_layer_3(x)))\n",
        "\n",
        "    x = x.flatten(start_dim=1)\n",
        "\n",
        "    x = nn.functional.relu(self.linear_layer_1(x))\n",
        "    x = self.linear_layer_2(x)\n",
        "    # x = torch.softmax(x, dim=-1)\n",
        "\n",
        "    return x"
      ],
      "metadata": {
        "id": "D651dwT-vgFr"
      },
      "execution_count": null,
      "outputs": []
    },
    {
      "cell_type": "code",
      "source": [
        "device = \"cuda\" if torch.cuda.is_available() else \"cpu\"\n",
        "model = OurCNN().to(device)"
      ],
      "metadata": {
        "id": "Yo4DakHDvx9U"
      },
      "execution_count": null,
      "outputs": []
    },
    {
      "cell_type": "code",
      "source": [
        "optimizer = Adam(model.parameters(), lr=1e-3)\n",
        "criterion = nn.CrossEntropyLoss()"
      ],
      "metadata": {
        "id": "ZVlTKpFCvy6W"
      },
      "execution_count": null,
      "outputs": []
    },
    {
      "cell_type": "code",
      "source": [
        "num_epochs = 10\n",
        "\n",
        "epoch_training_loss = []\n",
        "\n",
        "for i in range(num_epochs):\n",
        "  batch_losses = 0\n",
        "  for x,y in train_loader:\n",
        "    x = x.to(device)\n",
        "    y = y.to(device)\n",
        "\n",
        "    out = model(x)\n",
        "\n",
        "    loss = criterion(out, y)\n",
        "\n",
        "    optimizer.zero_grad()\n",
        "    loss.backward()\n",
        "    optimizer.step()\n",
        "\n",
        "    batch_losses += loss.item()\n",
        "\n",
        "  epoch_training_loss.append(batch_losses/len(train_loader))\n",
        "  print(f\"Epoch: {i}, training_loss: {epoch_training_loss[-1]}\")"
      ],
      "metadata": {
        "id": "5CHuhOetv16S",
        "colab": {
          "base_uri": "https://localhost:8080/"
        },
        "outputId": "67ed666b-0d0b-41af-89b7-2c8996d271c1"
      },
      "execution_count": null,
      "outputs": [
        {
          "output_type": "stream",
          "name": "stdout",
          "text": [
            "Epoch: 0, training_loss: 0.49013197573416606\n"
          ]
        }
      ]
    },
    {
      "cell_type": "code",
      "source": [
        "plt.plot(epoch_training_loss)"
      ],
      "metadata": {
        "colab": {
          "base_uri": "https://localhost:8080/",
          "height": 448
        },
        "id": "uVjB44DpKZjz",
        "outputId": "2d1191e1-2c7d-40ae-c9df-1d81119ee29e"
      },
      "execution_count": null,
      "outputs": [
        {
          "output_type": "execute_result",
          "data": {
            "text/plain": [
              "[<matplotlib.lines.Line2D at 0x7d76c6b16680>]"
            ]
          },
          "metadata": {},
          "execution_count": 25
        },
        {
          "output_type": "display_data",
          "data": {
            "text/plain": [
              "<Figure size 640x480 with 1 Axes>"
            ],
            "image/png": "[encoded data removed]"
          },
          "metadata": {}
        }
      ]
    },
    {
      "cell_type": "code",
      "source": [
        "with torch.no_grad():\n",
        "  correct = 0\n",
        "  for x,y in test_loader:\n",
        "    x = x.to(device)\n",
        "    y = y.numpy()\n",
        "\n",
        "    out = model(x).cpu().numpy()\n",
        "\n",
        "    preds = np.argmax(out, axis=-1)\n",
        "    # print(preds)\n",
        "    # print(y)\n",
        "\n",
        "    correct += np.sum(preds==y)\n",
        "    # break\n",
        "\n",
        "accuracy = correct/len(test_data) * 100\n",
        "print(accuracy)"
      ],
      "metadata": {
        "colab": {
          "base_uri": "https://localhost:8080/"
        },
        "id": "HjtiPKYGKbTk",
        "outputId": "361f8f7f-da55-4642-e7a2-f3364bf10056"
      },
      "execution_count": null,
      "outputs": [
        {
          "output_type": "stream",
          "name": "stdout",
          "text": [
            "86.30537382976712\n"
          ]
        }
      ]
    },
    {
      "cell_type": "code",
      "source": [
        "np.sum(preds == y)"
      ],
      "metadata": {
        "colab": {
          "base_uri": "https://localhost:8080/"
        },
        "id": "vP0DVDLYLqdb",
        "outputId": "ac67dcec-0431-476c-e08d-239c9e504d20"
      },
      "execution_count": null,
      "outputs": [
        {
          "output_type": "execute_result",
          "data": {
            "text/plain": [
              "30"
            ]
          },
          "metadata": {},
          "execution_count": 55
        }
      ]
    },
    {
      "cell_type": "markdown",
      "source": [
        "**Even after only 2 epochs CNN gave a higher accuracy than the NN(86.2%). Unfortunately we couldn't notice any major impovement in the accuracy of CNN with different parameters(learning rate, number of epochs etc)**"
      ],
      "metadata": {
        "id": "9TcmFB0fO8WX"
      }
    },
    {
      "cell_type": "markdown",
      "source": [
        "**Four Convolutional Layers**"
      ],
      "metadata": {
        "id": "L9lMpHicekly"
      }
    },
    {
      "cell_type": "code",
      "source": [
        "class OurCNN(nn.Module):\n",
        "  def __init__(self):\n",
        "    super().__init__()\n",
        "\n",
        "    # out_channels= # of feature maps to be learned or # of features\n",
        "    self.conv_layer_1 = nn.Conv2d(in_channels=1, out_channels=140, kernel_size=3, padding=1)\n",
        "    self.conv_layer_2 = nn.Conv2d(in_channels=140, out_channels=120, kernel_size=3, padding=1)\n",
        "    self.conv_layer_3 = nn.Conv2d(in_channels=120, out_channels=120, kernel_size=3, padding=1)\n",
        "    self.conv_layer_4 = nn.Conv2d(in_channels=120, out_channels=64, kernel_size=3, padding=1)\n",
        "\n",
        "    # Polling layer conceptually used to reduce spatial dimensions of feature maps and introduce translational variance\n",
        "    self.pool_layer = nn.MaxPool2d(kernel_size=2, stride=2)\n",
        "\n",
        "    self.linear_layer_1 = nn.Linear(in_features=64*3*3, out_features=100)\n",
        "    self.linear_layer_2 = nn.Linear(in_features=100, out_features=62)\n",
        "\n",
        "  def forward(self, x): # x -> (B, C, H, W)\n",
        "    x = self.pool_layer(nn.functional.relu(self.conv_layer_1(x)))\n",
        "    x = self.pool_layer(nn.functional.relu(self.conv_layer_2(x)))\n",
        "    x = self.pool_layer(nn.functional.relu(self.conv_layer_3(x)))\n",
        "    x = self.pool_layer(nn.functional.relu(self.conv_layer_4(x)))\n",
        "\n",
        "    x = x.flatten(start_dim=1)\n",
        "\n",
        "    x = nn.functional.relu(self.linear_layer_1(x))\n",
        "    x = self.linear_layer_2(x)\n",
        "    # x = torch.softmax(x, dim=-1)\n",
        "\n",
        "    return x"
      ],
      "metadata": {
        "colab": {
          "base_uri": "https://localhost:8080/",
          "height": 216
        },
        "id": "e5So-Va_escr",
        "outputId": "bfbc8284-63cf-47d7-aaf5-9619e165689d"
      },
      "execution_count": null,
      "outputs": [
        {
          "output_type": "error",
          "ename": "NameError",
          "evalue": "name 'nn' is not defined",
          "traceback": [
            "\u001b[0;31m---------------------------------------------------------------------------\u001b[0m",
            "\u001b[0;31mNameError\u001b[0m                                 Traceback (most recent call last)",
            "\u001b[0;32m<ipython-input-1-bf1bc72ab273>\u001b[0m in \u001b[0;36m<cell line: 1>\u001b[0;34m()\u001b[0m\n\u001b[0;32m----> 1\u001b[0;31m \u001b[0;32mclass\u001b[0m \u001b[0mOurCNN\u001b[0m\u001b[0;34m(\u001b[0m\u001b[0mnn\u001b[0m\u001b[0;34m.\u001b[0m\u001b[0mModule\u001b[0m\u001b[0;34m)\u001b[0m\u001b[0;34m:\u001b[0m\u001b[0;34m\u001b[0m\u001b[0;34m\u001b[0m\u001b[0m\n\u001b[0m\u001b[1;32m      2\u001b[0m   \u001b[0;32mdef\u001b[0m \u001b[0m__init__\u001b[0m\u001b[0;34m(\u001b[0m\u001b[0mself\u001b[0m\u001b[0;34m)\u001b[0m\u001b[0;34m:\u001b[0m\u001b[0;34m\u001b[0m\u001b[0;34m\u001b[0m\u001b[0m\n\u001b[1;32m      3\u001b[0m     \u001b[0msuper\u001b[0m\u001b[0;34m(\u001b[0m\u001b[0;34m)\u001b[0m\u001b[0;34m.\u001b[0m\u001b[0m__init__\u001b[0m\u001b[0;34m(\u001b[0m\u001b[0;34m)\u001b[0m\u001b[0;34m\u001b[0m\u001b[0;34m\u001b[0m\u001b[0m\n\u001b[1;32m      4\u001b[0m \u001b[0;34m\u001b[0m\u001b[0m\n\u001b[1;32m      5\u001b[0m     \u001b[0;31m# out_channels= # of feature maps to be learned or # of features\u001b[0m\u001b[0;34m\u001b[0m\u001b[0;34m\u001b[0m\u001b[0m\n",
            "\u001b[0;31mNameError\u001b[0m: name 'nn' is not defined"
          ]
        }
      ]
    },
    {
      "cell_type": "code",
      "source": [
        "device = \"cuda\" if torch.cuda.is_available() else \"cpu\"\n",
        "model = OurCNN().to(device)\n",
        "\n",
        "optimizer = Adam(model.parameters(), lr=1e-3)\n",
        "criterion = nn.CrossEntropyLoss()"
      ],
      "metadata": {
        "id": "WtqESDYDfADu"
      },
      "execution_count": null,
      "outputs": []
    },
    {
      "cell_type": "code",
      "source": [
        "num_epochs = 10\n",
        "\n",
        "epoch_training_loss = []\n",
        "\n",
        "for i in range(num_epochs):\n",
        "  batch_losses = 0\n",
        "  for x,y in train_loader:\n",
        "    x = x.to(device)\n",
        "    y = y.to(device)\n",
        "\n",
        "    out = model(x)\n",
        "\n",
        "    loss = criterion(out, y)\n",
        "\n",
        "    optimizer.zero_grad()\n",
        "    loss.backward()\n",
        "    optimizer.step()\n",
        "\n",
        "    batch_losses += loss.item()\n",
        "\n",
        "  epoch_training_loss.append(batch_losses/len(train_loader))\n",
        "  print(f\"Epoch: {i}, training_loss: {epoch_training_loss[-1]}\")"
      ],
      "metadata": {
        "id": "GzoVeV6bfETo"
      },
      "execution_count": null,
      "outputs": []
    }
  ],
  "metadata": {
    "accelerator": "GPU",
    "colab": {
      "gpuType": "T4",
      "provenance": []
    },
    "kernelspec": {
      "display_name": "Python 3",
      "name": "python3"
    },
    "language_info": {
      "name": "python"
    }
  },
  "nbformat": 4,
  "nbformat_minor": 0
}